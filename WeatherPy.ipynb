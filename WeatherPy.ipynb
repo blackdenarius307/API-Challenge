{
 "cells": [
  {
   "cell_type": "markdown",
   "metadata": {},
   "source": [
    "# WeatherPy\n",
    "----\n",
    "\n",
    "#### Note\n",
    "* Instructions have been included for each segment. You do not have to follow them exactly, but they are included to help you think through the steps."
   ]
  },
  {
   "cell_type": "code",
   "execution_count": 33,
   "metadata": {
    "scrolled": true
   },
   "outputs": [],
   "source": [
    "import pandas as pd\n",
    "from matplotlib import pyplot as plt\n",
    "import json\n",
    "import requests\n",
    "from config import weather_key\n",
    "from citipy import citipy\n",
    "import time \n",
    "import numpy as np\n",
    "import random \n",
    "import scipy.stats as st"
   ]
  },
  {
   "cell_type": "code",
   "execution_count": 34,
   "metadata": {},
   "outputs": [],
   "source": [
    "# Save config information\n",
    "url = \"http://api.openweathermap.org/data/2.5/weather?\"\n",
    "cities = []\n",
    "units =\"imperial\""
   ]
  },
  {
   "cell_type": "markdown",
   "metadata": {},
   "source": [
    "## Generate Cities List"
   ]
  },
  {
   "cell_type": "code",
   "execution_count": 3,
   "metadata": {},
   "outputs": [],
   "source": [
    "#Generate Longitudes, Latitudes, then Append the city names\n",
    "for i in range(100):\n",
    "    Long = round(random.uniform(-180, 180), 2)\n",
    "    Lat = round(random.uniform(-90, 90), 2)\n",
    "    city = citipy.nearest_city(Lat, Long).city_name\n",
    "    if city not in cities:\n",
    "        cities.append(city)"
   ]
  },
  {
   "cell_type": "markdown",
   "metadata": {},
   "source": [
    "### Perform API Calls\n",
    "* Perform a weather check on each city using a series of successive API calls.\n",
    "* Include a print log of each city as it'sbeing processed (with the city number and city name).\n"
   ]
  },
  {
   "cell_type": "code",
   "execution_count": 4,
   "metadata": {
    "scrolled": false
   },
   "outputs": [
    {
     "name": "stdout",
     "output_type": "stream",
     "text": [
      "Retrieving front royal data. This is city #1.\n",
      "Data not found. Move along home.\n",
      "Retrieving cabedelo data. This is city #2.\n",
      "Retrieving kremenki data. This is city #3.\n",
      "Retrieving avarua data. This is city #4.\n",
      "Retrieving punta arenas data. This is city #5.\n",
      "Retrieving cobija data. This is city #6.\n",
      "Retrieving rikitea data. This is city #7.\n",
      "Retrieving cervo data. This is city #8.\n",
      "Retrieving albany data. This is city #9.\n",
      "Retrieving clyde river data. This is city #10.\n",
      "Retrieving tiksi data. This is city #11.\n",
      "Retrieving vestmanna data. This is city #12.\n",
      "Retrieving coihaique data. This is city #13.\n",
      "Retrieving cape town data. This is city #14.\n",
      "Retrieving maiduguri data. This is city #15.\n",
      "Data not found. Move along home.\n",
      "Retrieving mataura data. This is city #16.\n",
      "Retrieving thinadhoo data. This is city #17.\n",
      "Retrieving elban data. This is city #18.\n",
      "Retrieving kapaa data. This is city #19.\n",
      "Retrieving moron data. This is city #20.\n",
      "Retrieving homer data. This is city #21.\n",
      "Retrieving qasigiannguit data. This is city #22.\n",
      "Retrieving qaanaaq data. This is city #23.\n",
      "Retrieving agadir data. This is city #24.\n",
      "Retrieving lebu data. This is city #25.\n",
      "Retrieving ushuaia data. This is city #26.\n",
      "Retrieving kodiak data. This is city #27.\n",
      "Retrieving saldanha data. This is city #28.\n",
      "Retrieving cururupu data. This is city #29.\n",
      "Retrieving ilulissat data. This is city #30.\n",
      "Retrieving vaini data. This is city #31.\n",
      "Retrieving barrow data. This is city #32.\n",
      "Retrieving luderitz data. This is city #33.\n",
      "Retrieving chokurdakh data. This is city #34.\n",
      "Retrieving jiangyou data. This is city #35.\n",
      "Retrieving porto novo data. This is city #36.\n",
      "Retrieving bluff data. This is city #37.\n",
      "Retrieving saskylakh data. This is city #38.\n",
      "Data not found. Move along home.\n",
      "Retrieving jardim data. This is city #39.\n",
      "Retrieving kruisfontein data. This is city #40.\n",
      "Retrieving conceicao da barra data. This is city #41.\n",
      "Retrieving bambous virieux data. This is city #42.\n",
      "Retrieving christchurch data. This is city #43.\n",
      "Retrieving sangar data. This is city #44.\n",
      "Retrieving butaritari data. This is city #45.\n",
      "Data not found. Move along home.\n",
      "Retrieving pacific grove data. This is city #46.\n",
      "Retrieving tessalit data. This is city #47.\n",
      "Retrieving mangrol data. This is city #48.\n",
      "Retrieving port elizabeth data. This is city #49.\n",
      "Retrieving busselton data. This is city #50.\n",
      "Retrieving faanui data. This is city #51.\n",
      "Retrieving ust-kulom data. This is city #52.\n",
      "Retrieving hilo data. This is city #53.\n",
      "Retrieving prabumulih data. This is city #54.\n",
      "Retrieving east london data. This is city #55.\n",
      "Retrieving inchture data. This is city #56.\n",
      "Retrieving dali data. This is city #57.\n",
      "Retrieving hami data. This is city #58.\n",
      "Retrieving comodoro rivadavia data. This is city #59.\n",
      "Retrieving hermanus data. This is city #60.\n",
      "Retrieving chuy data. This is city #61.\n",
      "Retrieving port alfred data. This is city #62.\n",
      "Retrieving tilichiki data. This is city #63.\n",
      "Retrieving saint-philippe data. This is city #64.\n",
      "Retrieving tasiilaq data. This is city #65.\n",
      "Retrieving new norfolk data. This is city #66.\n",
      "Retrieving bida data. This is city #67.\n",
      "Retrieving yuanping data. This is city #68.\n",
      "Retrieving saint george data. This is city #69.\n",
      "Retrieving guerrero negro data. This is city #70.\n",
      "Retrieving cherskiy data. This is city #71.\n",
      "Data not found. Move along home.\n",
      "Retrieving sitka data. This is city #72.\n"
     ]
    }
   ],
   "source": [
    "# Get weather data\n",
    "counter = 0\n",
    "name_city = []\n",
    "longitude = []\n",
    "latitude = []\n",
    "max_temp = []\n",
    "humidity = []\n",
    "cloudiness = []\n",
    "wind_speed = []\n",
    "\n",
    "for city in cities:\n",
    "    try:\n",
    "        query_url = url + \"appid=\" + weather_key + \"&q=\" + city + \"&units=\" + units\n",
    "        weather_response = requests.get(query_url)\n",
    "        weather_json = weather_response.json()\n",
    "        name_city.append(weather_json['name'])\n",
    "        longitude.append(weather_json['coord']['lon'])\n",
    "        latitude.append(weather_json['coord']['lat'])\n",
    "        max_temp.append(weather_json['main']['temp_max'])\n",
    "        humidity.append(weather_json['main']['humidity'])\n",
    "        cloudiness.append(weather_json['clouds']['all'])\n",
    "        wind_speed.append(weather_json['wind']['speed'])\n",
    "        counter += 1\n",
    "        print(f'Retrieving data for {city}. This is city #{counter}.')\n",
    "        time.sleep(1)\n",
    "    except:\n",
    "        print('Data not found. Moving along home.')\n",
    "        continue"
   ]
  },
  {
   "cell_type": "markdown",
   "metadata": {},
   "source": [
    "# Convert Raw Data to DataFrame\n",
    "* Export the city data into a .csv.\n",
    "* Display the DataFrame"
   ]
  },
  {
   "cell_type": "code",
   "execution_count": 8,
   "metadata": {},
   "outputs": [],
   "source": [
    "data = {'City Name': name_city, 'Longtitude': longitude, 'Latitude': latitude, 'Temperature (f)':max_temp, 'Humidity':humidity,\\\n",
    "       'Cloudiness': cloudiness, 'Wind Speed (mph)': wind_speed}\n",
    "data_df = pd.DataFrame(data)"
   ]
  },
  {
   "cell_type": "markdown",
   "metadata": {},
   "source": [
    "## Inspect the data and remove the cities where the humidity > 100%.\n",
    "----\n",
    "Skip this step if there are no cities that have humidity > 100%. "
   ]
  },
  {
   "cell_type": "code",
   "execution_count": null,
   "metadata": {},
   "outputs": [],
   "source": [
    "#Cut out Humidity Outliers\n",
    "data_df[data_df['Humidity'] <= 100]"
   ]
  },
  {
   "cell_type": "code",
   "execution_count": 21,
   "metadata": {},
   "outputs": [],
   "source": [
    "#Push clean data set to CSV\n",
    "data_df.to_csv('Output Data/weather_data.csv')"
   ]
  },
  {
   "cell_type": "code",
   "execution_count": 29,
   "metadata": {},
   "outputs": [
    {
     "data": {
      "text/html": [
       "<div>\n",
       "<style scoped>\n",
       "    .dataframe tbody tr th:only-of-type {\n",
       "        vertical-align: middle;\n",
       "    }\n",
       "\n",
       "    .dataframe tbody tr th {\n",
       "        vertical-align: top;\n",
       "    }\n",
       "\n",
       "    .dataframe thead th {\n",
       "        text-align: right;\n",
       "    }\n",
       "</style>\n",
       "<table border=\"1\" class=\"dataframe\">\n",
       "  <thead>\n",
       "    <tr style=\"text-align: right;\">\n",
       "      <th></th>\n",
       "      <th>City Name</th>\n",
       "      <th>Longtitude</th>\n",
       "      <th>Latitude</th>\n",
       "      <th>Temperature (f)</th>\n",
       "      <th>Humidity</th>\n",
       "      <th>Cloudiness</th>\n",
       "      <th>Wind Speed (mph)</th>\n",
       "    </tr>\n",
       "  </thead>\n",
       "  <tbody>\n",
       "    <tr>\n",
       "      <th>0</th>\n",
       "      <td>Front Royal</td>\n",
       "      <td>-78.19</td>\n",
       "      <td>38.92</td>\n",
       "      <td>69.01</td>\n",
       "      <td>59</td>\n",
       "      <td>1</td>\n",
       "      <td>7.87</td>\n",
       "    </tr>\n",
       "    <tr>\n",
       "      <th>2</th>\n",
       "      <td>Kremenki</td>\n",
       "      <td>37.13</td>\n",
       "      <td>54.88</td>\n",
       "      <td>37.40</td>\n",
       "      <td>86</td>\n",
       "      <td>40</td>\n",
       "      <td>11.18</td>\n",
       "    </tr>\n",
       "    <tr>\n",
       "      <th>7</th>\n",
       "      <td>Cervo</td>\n",
       "      <td>-7.41</td>\n",
       "      <td>43.67</td>\n",
       "      <td>64.00</td>\n",
       "      <td>79</td>\n",
       "      <td>100</td>\n",
       "      <td>8.99</td>\n",
       "    </tr>\n",
       "    <tr>\n",
       "      <th>8</th>\n",
       "      <td>Albany</td>\n",
       "      <td>-73.97</td>\n",
       "      <td>42.60</td>\n",
       "      <td>60.01</td>\n",
       "      <td>68</td>\n",
       "      <td>85</td>\n",
       "      <td>7.27</td>\n",
       "    </tr>\n",
       "    <tr>\n",
       "      <th>9</th>\n",
       "      <td>Clyde River</td>\n",
       "      <td>-68.59</td>\n",
       "      <td>70.47</td>\n",
       "      <td>33.37</td>\n",
       "      <td>91</td>\n",
       "      <td>100</td>\n",
       "      <td>9.04</td>\n",
       "    </tr>\n",
       "    <tr>\n",
       "      <th>10</th>\n",
       "      <td>Tiksi</td>\n",
       "      <td>128.87</td>\n",
       "      <td>71.69</td>\n",
       "      <td>15.66</td>\n",
       "      <td>93</td>\n",
       "      <td>100</td>\n",
       "      <td>22.08</td>\n",
       "    </tr>\n",
       "    <tr>\n",
       "      <th>11</th>\n",
       "      <td>Vestmanna</td>\n",
       "      <td>-7.17</td>\n",
       "      <td>62.16</td>\n",
       "      <td>42.80</td>\n",
       "      <td>75</td>\n",
       "      <td>53</td>\n",
       "      <td>14.99</td>\n",
       "    </tr>\n",
       "    <tr>\n",
       "      <th>14</th>\n",
       "      <td>Maiduguri</td>\n",
       "      <td>13.16</td>\n",
       "      <td>11.85</td>\n",
       "      <td>87.17</td>\n",
       "      <td>18</td>\n",
       "      <td>2</td>\n",
       "      <td>6.64</td>\n",
       "    </tr>\n",
       "    <tr>\n",
       "      <th>16</th>\n",
       "      <td>Thinadhoo</td>\n",
       "      <td>72.93</td>\n",
       "      <td>0.53</td>\n",
       "      <td>82.69</td>\n",
       "      <td>77</td>\n",
       "      <td>100</td>\n",
       "      <td>11.43</td>\n",
       "    </tr>\n",
       "    <tr>\n",
       "      <th>17</th>\n",
       "      <td>Elban</td>\n",
       "      <td>136.51</td>\n",
       "      <td>50.10</td>\n",
       "      <td>28.26</td>\n",
       "      <td>85</td>\n",
       "      <td>0</td>\n",
       "      <td>3.18</td>\n",
       "    </tr>\n",
       "    <tr>\n",
       "      <th>18</th>\n",
       "      <td>Kapaa</td>\n",
       "      <td>-159.32</td>\n",
       "      <td>22.08</td>\n",
       "      <td>75.99</td>\n",
       "      <td>88</td>\n",
       "      <td>75</td>\n",
       "      <td>6.93</td>\n",
       "    </tr>\n",
       "    <tr>\n",
       "      <th>20</th>\n",
       "      <td>Homer</td>\n",
       "      <td>-151.55</td>\n",
       "      <td>59.64</td>\n",
       "      <td>39.00</td>\n",
       "      <td>86</td>\n",
       "      <td>75</td>\n",
       "      <td>6.93</td>\n",
       "    </tr>\n",
       "    <tr>\n",
       "      <th>21</th>\n",
       "      <td>Qasigiannguit</td>\n",
       "      <td>-51.19</td>\n",
       "      <td>68.82</td>\n",
       "      <td>39.20</td>\n",
       "      <td>69</td>\n",
       "      <td>75</td>\n",
       "      <td>11.41</td>\n",
       "    </tr>\n",
       "    <tr>\n",
       "      <th>22</th>\n",
       "      <td>Qaanaaq</td>\n",
       "      <td>-69.36</td>\n",
       "      <td>77.48</td>\n",
       "      <td>27.28</td>\n",
       "      <td>82</td>\n",
       "      <td>24</td>\n",
       "      <td>9.35</td>\n",
       "    </tr>\n",
       "    <tr>\n",
       "      <th>23</th>\n",
       "      <td>Santa Cruz</td>\n",
       "      <td>-9.60</td>\n",
       "      <td>30.42</td>\n",
       "      <td>75.20</td>\n",
       "      <td>47</td>\n",
       "      <td>5</td>\n",
       "      <td>16.11</td>\n",
       "    </tr>\n",
       "    <tr>\n",
       "      <th>26</th>\n",
       "      <td>Saint Paul Harbor</td>\n",
       "      <td>-152.41</td>\n",
       "      <td>57.79</td>\n",
       "      <td>32.00</td>\n",
       "      <td>69</td>\n",
       "      <td>75</td>\n",
       "      <td>4.70</td>\n",
       "    </tr>\n",
       "    <tr>\n",
       "      <th>29</th>\n",
       "      <td>Ilulissat</td>\n",
       "      <td>-51.10</td>\n",
       "      <td>69.22</td>\n",
       "      <td>39.20</td>\n",
       "      <td>69</td>\n",
       "      <td>75</td>\n",
       "      <td>11.41</td>\n",
       "    </tr>\n",
       "    <tr>\n",
       "      <th>31</th>\n",
       "      <td>Barrow</td>\n",
       "      <td>-156.79</td>\n",
       "      <td>71.29</td>\n",
       "      <td>21.20</td>\n",
       "      <td>85</td>\n",
       "      <td>90</td>\n",
       "      <td>10.29</td>\n",
       "    </tr>\n",
       "    <tr>\n",
       "      <th>33</th>\n",
       "      <td>Chokurdakh</td>\n",
       "      <td>147.92</td>\n",
       "      <td>70.63</td>\n",
       "      <td>16.23</td>\n",
       "      <td>98</td>\n",
       "      <td>98</td>\n",
       "      <td>6.93</td>\n",
       "    </tr>\n",
       "    <tr>\n",
       "      <th>34</th>\n",
       "      <td>Jiangyou</td>\n",
       "      <td>104.72</td>\n",
       "      <td>31.77</td>\n",
       "      <td>59.41</td>\n",
       "      <td>80</td>\n",
       "      <td>100</td>\n",
       "      <td>2.13</td>\n",
       "    </tr>\n",
       "    <tr>\n",
       "      <th>35</th>\n",
       "      <td>Porto-Novo</td>\n",
       "      <td>2.60</td>\n",
       "      <td>6.50</td>\n",
       "      <td>82.40</td>\n",
       "      <td>83</td>\n",
       "      <td>40</td>\n",
       "      <td>14.99</td>\n",
       "    </tr>\n",
       "    <tr>\n",
       "      <th>37</th>\n",
       "      <td>Saskylakh</td>\n",
       "      <td>114.08</td>\n",
       "      <td>71.92</td>\n",
       "      <td>20.89</td>\n",
       "      <td>97</td>\n",
       "      <td>87</td>\n",
       "      <td>5.12</td>\n",
       "    </tr>\n",
       "    <tr>\n",
       "      <th>43</th>\n",
       "      <td>Sangar</td>\n",
       "      <td>127.47</td>\n",
       "      <td>63.92</td>\n",
       "      <td>13.55</td>\n",
       "      <td>93</td>\n",
       "      <td>99</td>\n",
       "      <td>8.79</td>\n",
       "    </tr>\n",
       "    <tr>\n",
       "      <th>44</th>\n",
       "      <td>Butaritari</td>\n",
       "      <td>172.79</td>\n",
       "      <td>3.07</td>\n",
       "      <td>81.75</td>\n",
       "      <td>75</td>\n",
       "      <td>100</td>\n",
       "      <td>12.73</td>\n",
       "    </tr>\n",
       "    <tr>\n",
       "      <th>45</th>\n",
       "      <td>Pacific Grove</td>\n",
       "      <td>-121.92</td>\n",
       "      <td>36.62</td>\n",
       "      <td>59.00</td>\n",
       "      <td>82</td>\n",
       "      <td>40</td>\n",
       "      <td>2.42</td>\n",
       "    </tr>\n",
       "    <tr>\n",
       "      <th>46</th>\n",
       "      <td>Tessalit</td>\n",
       "      <td>1.01</td>\n",
       "      <td>20.20</td>\n",
       "      <td>90.68</td>\n",
       "      <td>12</td>\n",
       "      <td>0</td>\n",
       "      <td>9.33</td>\n",
       "    </tr>\n",
       "    <tr>\n",
       "      <th>47</th>\n",
       "      <td>Māngrol</td>\n",
       "      <td>70.12</td>\n",
       "      <td>21.12</td>\n",
       "      <td>83.10</td>\n",
       "      <td>78</td>\n",
       "      <td>48</td>\n",
       "      <td>7.38</td>\n",
       "    </tr>\n",
       "    <tr>\n",
       "      <th>51</th>\n",
       "      <td>Ust'-Kulom</td>\n",
       "      <td>53.69</td>\n",
       "      <td>61.69</td>\n",
       "      <td>32.16</td>\n",
       "      <td>96</td>\n",
       "      <td>99</td>\n",
       "      <td>6.71</td>\n",
       "    </tr>\n",
       "    <tr>\n",
       "      <th>52</th>\n",
       "      <td>Hilo</td>\n",
       "      <td>-155.09</td>\n",
       "      <td>19.73</td>\n",
       "      <td>73.40</td>\n",
       "      <td>83</td>\n",
       "      <td>90</td>\n",
       "      <td>9.17</td>\n",
       "    </tr>\n",
       "    <tr>\n",
       "      <th>55</th>\n",
       "      <td>Inchture</td>\n",
       "      <td>-3.17</td>\n",
       "      <td>56.45</td>\n",
       "      <td>51.80</td>\n",
       "      <td>87</td>\n",
       "      <td>75</td>\n",
       "      <td>5.82</td>\n",
       "    </tr>\n",
       "    <tr>\n",
       "      <th>56</th>\n",
       "      <td>Dali</td>\n",
       "      <td>100.18</td>\n",
       "      <td>25.70</td>\n",
       "      <td>58.23</td>\n",
       "      <td>88</td>\n",
       "      <td>89</td>\n",
       "      <td>2.89</td>\n",
       "    </tr>\n",
       "    <tr>\n",
       "      <th>57</th>\n",
       "      <td>Kumul</td>\n",
       "      <td>93.45</td>\n",
       "      <td>42.80</td>\n",
       "      <td>53.08</td>\n",
       "      <td>39</td>\n",
       "      <td>0</td>\n",
       "      <td>20.96</td>\n",
       "    </tr>\n",
       "    <tr>\n",
       "      <th>62</th>\n",
       "      <td>Tilichiki</td>\n",
       "      <td>166.10</td>\n",
       "      <td>60.47</td>\n",
       "      <td>36.61</td>\n",
       "      <td>98</td>\n",
       "      <td>100</td>\n",
       "      <td>5.03</td>\n",
       "    </tr>\n",
       "    <tr>\n",
       "      <th>64</th>\n",
       "      <td>Tasiilaq</td>\n",
       "      <td>-37.64</td>\n",
       "      <td>65.61</td>\n",
       "      <td>33.80</td>\n",
       "      <td>86</td>\n",
       "      <td>20</td>\n",
       "      <td>14.99</td>\n",
       "    </tr>\n",
       "    <tr>\n",
       "      <th>66</th>\n",
       "      <td>Bida</td>\n",
       "      <td>6.02</td>\n",
       "      <td>9.08</td>\n",
       "      <td>83.10</td>\n",
       "      <td>62</td>\n",
       "      <td>60</td>\n",
       "      <td>1.79</td>\n",
       "    </tr>\n",
       "    <tr>\n",
       "      <th>67</th>\n",
       "      <td>Yuanping</td>\n",
       "      <td>112.76</td>\n",
       "      <td>38.72</td>\n",
       "      <td>49.42</td>\n",
       "      <td>44</td>\n",
       "      <td>67</td>\n",
       "      <td>0.65</td>\n",
       "    </tr>\n",
       "    <tr>\n",
       "      <th>68</th>\n",
       "      <td>Saint George</td>\n",
       "      <td>-113.58</td>\n",
       "      <td>37.10</td>\n",
       "      <td>64.40</td>\n",
       "      <td>18</td>\n",
       "      <td>1</td>\n",
       "      <td>3.36</td>\n",
       "    </tr>\n",
       "    <tr>\n",
       "      <th>69</th>\n",
       "      <td>Guerrero Negro</td>\n",
       "      <td>-114.06</td>\n",
       "      <td>27.98</td>\n",
       "      <td>82.60</td>\n",
       "      <td>47</td>\n",
       "      <td>0</td>\n",
       "      <td>6.42</td>\n",
       "    </tr>\n",
       "    <tr>\n",
       "      <th>70</th>\n",
       "      <td>Cherskiy</td>\n",
       "      <td>161.30</td>\n",
       "      <td>68.75</td>\n",
       "      <td>17.33</td>\n",
       "      <td>95</td>\n",
       "      <td>47</td>\n",
       "      <td>4.61</td>\n",
       "    </tr>\n",
       "    <tr>\n",
       "      <th>71</th>\n",
       "      <td>Sitka</td>\n",
       "      <td>-135.33</td>\n",
       "      <td>57.05</td>\n",
       "      <td>42.80</td>\n",
       "      <td>81</td>\n",
       "      <td>20</td>\n",
       "      <td>12.75</td>\n",
       "    </tr>\n",
       "  </tbody>\n",
       "</table>\n",
       "</div>"
      ],
      "text/plain": [
       "            City Name  Longtitude  Latitude  Temperature (f)  Humidity  \\\n",
       "0         Front Royal      -78.19     38.92            69.01        59   \n",
       "2            Kremenki       37.13     54.88            37.40        86   \n",
       "7               Cervo       -7.41     43.67            64.00        79   \n",
       "8              Albany      -73.97     42.60            60.01        68   \n",
       "9         Clyde River      -68.59     70.47            33.37        91   \n",
       "10              Tiksi      128.87     71.69            15.66        93   \n",
       "11          Vestmanna       -7.17     62.16            42.80        75   \n",
       "14          Maiduguri       13.16     11.85            87.17        18   \n",
       "16          Thinadhoo       72.93      0.53            82.69        77   \n",
       "17              Elban      136.51     50.10            28.26        85   \n",
       "18              Kapaa     -159.32     22.08            75.99        88   \n",
       "20              Homer     -151.55     59.64            39.00        86   \n",
       "21      Qasigiannguit      -51.19     68.82            39.20        69   \n",
       "22            Qaanaaq      -69.36     77.48            27.28        82   \n",
       "23         Santa Cruz       -9.60     30.42            75.20        47   \n",
       "26  Saint Paul Harbor     -152.41     57.79            32.00        69   \n",
       "29          Ilulissat      -51.10     69.22            39.20        69   \n",
       "31             Barrow     -156.79     71.29            21.20        85   \n",
       "33         Chokurdakh      147.92     70.63            16.23        98   \n",
       "34           Jiangyou      104.72     31.77            59.41        80   \n",
       "35         Porto-Novo        2.60      6.50            82.40        83   \n",
       "37          Saskylakh      114.08     71.92            20.89        97   \n",
       "43             Sangar      127.47     63.92            13.55        93   \n",
       "44         Butaritari      172.79      3.07            81.75        75   \n",
       "45      Pacific Grove     -121.92     36.62            59.00        82   \n",
       "46           Tessalit        1.01     20.20            90.68        12   \n",
       "47            Māngrol       70.12     21.12            83.10        78   \n",
       "51         Ust'-Kulom       53.69     61.69            32.16        96   \n",
       "52               Hilo     -155.09     19.73            73.40        83   \n",
       "55           Inchture       -3.17     56.45            51.80        87   \n",
       "56               Dali      100.18     25.70            58.23        88   \n",
       "57              Kumul       93.45     42.80            53.08        39   \n",
       "62          Tilichiki      166.10     60.47            36.61        98   \n",
       "64           Tasiilaq      -37.64     65.61            33.80        86   \n",
       "66               Bida        6.02      9.08            83.10        62   \n",
       "67           Yuanping      112.76     38.72            49.42        44   \n",
       "68       Saint George     -113.58     37.10            64.40        18   \n",
       "69     Guerrero Negro     -114.06     27.98            82.60        47   \n",
       "70           Cherskiy      161.30     68.75            17.33        95   \n",
       "71              Sitka     -135.33     57.05            42.80        81   \n",
       "\n",
       "    Cloudiness  Wind Speed (mph)  \n",
       "0            1              7.87  \n",
       "2           40             11.18  \n",
       "7          100              8.99  \n",
       "8           85              7.27  \n",
       "9          100              9.04  \n",
       "10         100             22.08  \n",
       "11          53             14.99  \n",
       "14           2              6.64  \n",
       "16         100             11.43  \n",
       "17           0              3.18  \n",
       "18          75              6.93  \n",
       "20          75              6.93  \n",
       "21          75             11.41  \n",
       "22          24              9.35  \n",
       "23           5             16.11  \n",
       "26          75              4.70  \n",
       "29          75             11.41  \n",
       "31          90             10.29  \n",
       "33          98              6.93  \n",
       "34         100              2.13  \n",
       "35          40             14.99  \n",
       "37          87              5.12  \n",
       "43          99              8.79  \n",
       "44         100             12.73  \n",
       "45          40              2.42  \n",
       "46           0              9.33  \n",
       "47          48              7.38  \n",
       "51          99              6.71  \n",
       "52          90              9.17  \n",
       "55          75              5.82  \n",
       "56          89              2.89  \n",
       "57           0             20.96  \n",
       "62         100              5.03  \n",
       "64          20             14.99  \n",
       "66          60              1.79  \n",
       "67          67              0.65  \n",
       "68           1              3.36  \n",
       "69           0              6.42  \n",
       "70          47              4.61  \n",
       "71          20             12.75  "
      ]
     },
     "execution_count": 29,
     "metadata": {},
     "output_type": "execute_result"
    }
   ],
   "source": [
    "#Create Northern Hemisphere Dataframe\n",
    "Northern_df = data_df[data_df['Latitude'] > 0]\n",
    "Northern_df"
   ]
  },
  {
   "cell_type": "code",
   "execution_count": 28,
   "metadata": {},
   "outputs": [],
   "source": [
    "#Create Southern Hemisphere Dataframe\n",
    "Southern_df = data_df[data_df['Latitude'] < 0]"
   ]
  },
  {
   "cell_type": "markdown",
   "metadata": {},
   "source": [
    "## Plotting the Data\n",
    "* Use proper labeling of the plots using plot titles (including date of analysis) and axes labels.\n",
    "* Save the plotted figures as .pngs."
   ]
  },
  {
   "cell_type": "markdown",
   "metadata": {},
   "source": [
    "## Latitude vs. Temperature Plot"
   ]
  },
  {
   "cell_type": "code",
   "execution_count": 24,
   "metadata": {
    "scrolled": true
   },
   "outputs": [
    {
     "data": {
      "image/png": "[encoded data removed]",
      "text/plain": [
       "<Figure size 432x288 with 1 Axes>"
      ]
     },
     "metadata": {
      "needs_background": "light"
     },
     "output_type": "display_data"
    }
   ],
   "source": [
    "#Overall Latitude vs Temperature\n",
    "Lattemp = data_df['Latitude']\n",
    "Templat = data_df['Temperature (f)']\n",
    "plt.scatter(Lattemp, Templat)\n",
    "plt.xlabel('Latitude')\n",
    "plt.ylabel('Temperature (f)')\n",
    "plt.title('Latitude vs. Temperature (f)')\n",
    "plt.grid(True)\n",
    "# Save the figure.\n",
    "plt.savefig('Images/Temp_vs_Lat.png')"
   ]
  },
  {
   "cell_type": "markdown",
   "metadata": {},
   "source": [
    "## Latitude vs. Humidity Plot"
   ]
  },
  {
   "cell_type": "code",
   "execution_count": 25,
   "metadata": {},
   "outputs": [
    {
     "data": {
      "image/png": "[encoded data removed]",
      "text/plain": [
       "<Figure size 432x288 with 1 Axes>"
      ]
     },
     "metadata": {
      "needs_background": "light"
     },
     "output_type": "display_data"
    }
   ],
   "source": [
    "#Overall Latitude vs Humidity\n",
    "Lathum = data_df['Latitude']\n",
    "Humlat = data_df['Humidity']\n",
    "plt.scatter(Lathum, Humlat)\n",
    "plt.xlabel('Latitude')\n",
    "plt.ylabel('Humidity')\n",
    "plt.title('Latitude vs. Humidity')\n",
    "# Save the figure.\n",
    "plt.savefig('Images/Humidity_vs_Lat.png')"
   ]
  },
  {
   "cell_type": "markdown",
   "metadata": {},
   "source": [
    "## Latitude vs. Cloudiness Plot"
   ]
  },
  {
   "cell_type": "code",
   "execution_count": 26,
   "metadata": {},
   "outputs": [
    {
     "data": {
      "image/png": "[encoded data removed]",
      "text/plain": [
       "<Figure size 432x288 with 1 Axes>"
      ]
     },
     "metadata": {
      "needs_background": "light"
     },
     "output_type": "display_data"
    }
   ],
   "source": [
    "#Overall Latitude vs Cloudiness\n",
    "Latcloud = data_df['Latitude']\n",
    "Cloudlat = data_df['Cloudiness']\n",
    "plt.scatter(Latcloud, Cloudlat)\n",
    "plt.xlabel('Latitude')\n",
    "plt.ylabel('Cloudiness')\n",
    "plt.title('Latitude vs. Cloudiness')\n",
    "# Save the figure.\n",
    "plt.savefig('Images/Cloudiness_vs_Lat.png')"
   ]
  },
  {
   "cell_type": "markdown",
   "metadata": {},
   "source": [
    "## Latitude vs. Wind Speed Plot"
   ]
  },
  {
   "cell_type": "code",
   "execution_count": 27,
   "metadata": {},
   "outputs": [
    {
     "data": {
      "image/png": "[encoded data removed]",
      "text/plain": [
       "<Figure size 432x288 with 1 Axes>"
      ]
     },
     "metadata": {
      "needs_background": "light"
     },
     "output_type": "display_data"
    }
   ],
   "source": [
    "#Overall Latitude vs Wind Speed\n",
    "Latwind = data_df['Latitude']\n",
    "Windlat = data_df['Wind Speed (mph)']\n",
    "plt.scatter(Latwind, Windlat)\n",
    "plt.xlabel('Latitude')\n",
    "plt.ylabel('Wind Speed (mph)')\n",
    "plt.title('Latitude vs. Wind Speed (mph)')\n",
    "# Save the figure.\n",
    "plt.savefig('Images/Windspeed_vs_Lat.png')"
   ]
  },
  {
   "cell_type": "markdown",
   "metadata": {},
   "source": [
    "## Linear Regression"
   ]
  },
  {
   "cell_type": "code",
   "execution_count": null,
   "metadata": {},
   "outputs": [],
   "source": []
  },
  {
   "cell_type": "markdown",
   "metadata": {},
   "source": [
    "####  Northern Hemisphere - Max Temp vs. Latitude Linear Regression"
   ]
  },
  {
   "cell_type": "code",
   "execution_count": 40,
   "metadata": {},
   "outputs": [
    {
     "data": {
      "text/plain": [
       "Text(0, 0.5, 'Temperature (f)')"
      ]
     },
     "execution_count": 40,
     "metadata": {},
     "output_type": "execute_result"
    },
    {
     "data": {
      "image/png": "[encoded data removed]",
      "text/plain": [
       "<Figure size 432x288 with 1 Axes>"
      ]
     },
     "metadata": {
      "needs_background": "light"
     },
     "output_type": "display_data"
    }
   ],
   "source": [
    "#Set Stuff\n",
    "xvalues = Northern_df.iloc[:,2]\n",
    "yvalues = Northern_df.iloc[:,3]\n",
    "(slope, intercept, rvalue, pvalue, stderr) = st.linregress(xvalues, yvalues)\n",
    "regress_values = xvalues * slope + intercept\n",
    "line_eq = \"y = \" +str(round(slope,2)) + 'x + ' + str(round(intercept,2))\n",
    "plt.scatter(xvalues,yvalues)\n",
    "plt.plot(xvalues,regress_values,\"r-\")\n",
    "plt.annotate(line_eq, (6,10), fontsize=15, color='red')\n",
    "plt.title('Northern Hemisphere - Temperature vs. Latitude')\n",
    "plt.xlabel('Latititude')\n",
    "plt.ylabel('Temperature (f)')\n",
    "plt.grid(True)\n",
    "print(f\"The r-squared is: {rvalue**2}\")\n",
    "# Save the figure.\n",
    "plt.savefig('Images/North_Temp_vs_Lat.png')"
   ]
  },
  {
   "cell_type": "markdown",
   "metadata": {},
   "source": [
    "####  Southern Hemisphere - Max Temp vs. Latitude Linear Regression"
   ]
  },
  {
   "cell_type": "code",
   "execution_count": 41,
   "metadata": {},
   "outputs": [
    {
     "data": {
      "text/plain": [
       "Text(0, 0.5, 'Temperature (f)')"
      ]
     },
     "execution_count": 41,
     "metadata": {},
     "output_type": "execute_result"
    },
    {
     "data": {
      "image/png": "[encoded data removed]",
      "text/plain": [
       "<Figure size 432x288 with 1 Axes>"
      ]
     },
     "metadata": {
      "needs_background": "light"
     },
     "output_type": "display_data"
    }
   ],
   "source": [
    "#Set Stuff\n",
    "xvalues = Southern_df.iloc[:,2]\n",
    "yvalues = Southern_df.iloc[:,3]\n",
    "(slope, intercept, rvalue, pvalue, stderr) = st.linregress(xvalues, yvalues)\n",
    "regress_values = xvalues * slope + intercept\n",
    "line_eq = \"y = \" +str(round(slope,2)) + 'x + ' + str(round(intercept,2))\n",
    "plt.scatter(xvalues,yvalues)\n",
    "plt.plot(xvalues,regress_values,\"r-\")\n",
    "plt.annotate(line_eq, (6,10), fontsize=15, color='red')\n",
    "plt.title('Southern Hemisphere - Temperature vs. Latitude')\n",
    "plt.xlabel('Latititude')\n",
    "plt.ylabel('Temperature (f)')\n",
    "plt.grid(True)\n",
    "print(f\"The r-squared is: {rvalue**2}\")\n",
    "# Save the figure.\n",
    "plt.savefig('Images/South_Temp_vs_Lat.png')"
   ]
  },
  {
   "cell_type": "markdown",
   "metadata": {},
   "source": [
    "####  Northern Hemisphere - Humidity (%) vs. Latitude Linear Regression"
   ]
  },
  {
   "cell_type": "code",
   "execution_count": 42,
   "metadata": {},
   "outputs": [
    {
     "data": {
      "text/plain": [
       "Text(0, 0.5, 'Temperature (f)')"
      ]
     },
     "execution_count": 42,
     "metadata": {},
     "output_type": "execute_result"
    },
    {
     "data": {
      "image/png": "[encoded data removed]",
      "text/plain": [
       "<Figure size 432x288 with 1 Axes>"
      ]
     },
     "metadata": {
      "needs_background": "light"
     },
     "output_type": "display_data"
    }
   ],
   "source": [
    "#Set Stuff\n",
    "xvalues = Northern_df.iloc[:,2]\n",
    "yvalues = Northern_df.iloc[:,4]\n",
    "(slope, intercept, rvalue, pvalue, stderr) = st.linregress(xvalues, yvalues)\n",
    "regress_values = xvalues * slope + intercept\n",
    "line_eq = \"y = \" +str(round(slope,2)) + 'x + ' + str(round(intercept,2))\n",
    "plt.scatter(xvalues,yvalues)\n",
    "plt.plot(xvalues,regress_values,\"r-\")\n",
    "plt.annotate(line_eq, (6,10), fontsize=15, color='red')\n",
    "plt.title('Northern Hemisphere - Humidity vs. Latitude')\n",
    "plt.xlabel('Latititude')\n",
    "plt.ylabel('Humidity')\n",
    "plt.grid(True)\n",
    "print(f\"The r-squared is: {rvalue**2}\")\n",
    "# Save the figure.\n",
    "plt.savefig('Images/North_Humidity_vs_Lat.png')"
   ]
  },
  {
   "cell_type": "markdown",
   "metadata": {},
   "source": [
    "####  Southern Hemisphere - Humidity (%) vs. Latitude Linear Regression"
   ]
  },
  {
   "cell_type": "code",
   "execution_count": 43,
   "metadata": {},
   "outputs": [
    {
     "data": {
      "text/plain": [
       "Text(0, 0.5, 'Temperature (f)')"
      ]
     },
     "execution_count": 43,
     "metadata": {},
     "output_type": "execute_result"
    },
    {
     "data": {
      "image/png": "[encoded data removed]",
      "text/plain": [
       "<Figure size 432x288 with 1 Axes>"
      ]
     },
     "metadata": {
      "needs_background": "light"
     },
     "output_type": "display_data"
    }
   ],
   "source": [
    "#Set Stuff\n",
    "xvalues = Southern_df.iloc[:,2]\n",
    "yvalues = Southern_df.iloc[:,4]\n",
    "(slope, intercept, rvalue, pvalue, stderr) = st.linregress(xvalues, yvalues)\n",
    "regress_values = xvalues * slope + intercept\n",
    "line_eq = \"y = \" +str(round(slope,2)) + 'x + ' + str(round(intercept,2))\n",
    "plt.scatter(xvalues,yvalues)\n",
    "plt.plot(xvalues,regress_values,\"r-\")\n",
    "plt.annotate(line_eq, (6,10), fontsize=15, color='red')\n",
    "plt.title('Southern Hemisphere - Humidity vs. Latitude')\n",
    "plt.xlabel('Latititude')\n",
    "plt.ylabel('Humidity')\n",
    "plt.grid(True)\n",
    "print(f\"The r-squared is: {rvalue**2}\")\n",
    "# Save the figure.\n",
    "plt.savefig('Images/South_Humidity_vs_Lat.png')"
   ]
  },
  {
   "cell_type": "markdown",
   "metadata": {},
   "source": [
    "####  Northern Hemisphere - Cloudiness (%) vs. Latitude Linear Regression"
   ]
  },
  {
   "cell_type": "code",
   "execution_count": 44,
   "metadata": {},
   "outputs": [
    {
     "data": {
      "text/plain": [
       "Text(0, 0.5, 'Cloudiness')"
      ]
     },
     "execution_count": 44,
     "metadata": {},
     "output_type": "execute_result"
    },
    {
     "data": {
      "image/png": "[encoded data removed]",
      "text/plain": [
       "<Figure size 432x288 with 1 Axes>"
      ]
     },
     "metadata": {
      "needs_background": "light"
     },
     "output_type": "display_data"
    }
   ],
   "source": [
    "#Set Stuff\n",
    "xvalues = Northern_df.iloc[:,2]\n",
    "yvalues = Northern_df.iloc[:,5]\n",
    "(slope, intercept, rvalue, pvalue, stderr) = st.linregress(xvalues, yvalues)\n",
    "regress_values = xvalues * slope + intercept\n",
    "line_eq = \"y = \" +str(round(slope,2)) + 'x + ' + str(round(intercept,2))\n",
    "plt.scatter(xvalues,yvalues)\n",
    "plt.plot(xvalues,regress_values,\"r-\")\n",
    "plt.annotate(line_eq, (6,10), fontsize=15, color='red')\n",
    "plt.title('Northern Hemisphere - Cloudiness vs. Latitude')\n",
    "plt.xlabel('Latititude')\n",
    "plt.ylabel('Cloudiness')\n",
    "plt.grid(True)\n",
    "print(f\"The r-squared is: {rvalue**2}\")\n",
    "# Save the figure.\n",
    "plt.savefig('Images/North_Cloud_vs_Lat.png')"
   ]
  },
  {
   "cell_type": "markdown",
   "metadata": {},
   "source": [
    "####  Southern Hemisphere - Cloudiness (%) vs. Latitude Linear Regression"
   ]
  },
  {
   "cell_type": "code",
   "execution_count": 45,
   "metadata": {},
   "outputs": [
    {
     "data": {
      "text/plain": [
       "Text(0, 0.5, 'Cloudiness')"
      ]
     },
     "execution_count": 45,
     "metadata": {},
     "output_type": "execute_result"
    },
    {
     "data": {
      "image/png": "[encoded data removed]",
      "text/plain": [
       "<Figure size 432x288 with 1 Axes>"
      ]
     },
     "metadata": {
      "needs_background": "light"
     },
     "output_type": "display_data"
    }
   ],
   "source": [
    "#Set Stuff\n",
    "xvalues = Southern_df.iloc[:,2]\n",
    "yvalues = Southern_df.iloc[:,5]\n",
    "(slope, intercept, rvalue, pvalue, stderr) = st.linregress(xvalues, yvalues)\n",
    "regress_values = xvalues * slope + intercept\n",
    "line_eq = \"y = \" +str(round(slope,2)) + 'x + ' + str(round(intercept,2))\n",
    "plt.scatter(xvalues,yvalues)\n",
    "plt.plot(xvalues,regress_values,\"r-\")\n",
    "plt.annotate(line_eq, (6,10), fontsize=15, color='red')\n",
    "plt.title('Southern Hemisphere - Temperature vs. Latitude')\n",
    "plt.xlabel('Latititude')\n",
    "plt.ylabel('Cloudiness')\n",
    "plt.grid(True)\n",
    "print(f\"The r-squared is: {rvalue**2}\")\n",
    "# Save the figure.\n",
    "plt.savefig('Images/South_Cloud_vs_Lat.png')"
   ]
  },
  {
   "cell_type": "markdown",
   "metadata": {},
   "source": [
    "####  Northern Hemisphere - Wind Speed (mph) vs. Latitude Linear Regression"
   ]
  },
  {
   "cell_type": "code",
   "execution_count": 46,
   "metadata": {},
   "outputs": [
    {
     "data": {
      "text/plain": [
       "Text(0, 0.5, 'Wind Speed (mph)')"
      ]
     },
     "execution_count": 46,
     "metadata": {},
     "output_type": "execute_result"
    },
    {
     "data": {
      "image/png": "[encoded data removed]",
      "text/plain": [
       "<Figure size 432x288 with 1 Axes>"
      ]
     },
     "metadata": {
      "needs_background": "light"
     },
     "output_type": "display_data"
    }
   ],
   "source": [
    "#Set Stuff\n",
    "xvalues = Northern_df.iloc[:,2]\n",
    "yvalues = Northern_df.iloc[:,6]\n",
    "(slope, intercept, rvalue, pvalue, stderr) = st.linregress(xvalues, yvalues)\n",
    "regress_values = xvalues * slope + intercept\n",
    "line_eq = \"y = \" +str(round(slope,2)) + 'x + ' + str(round(intercept,2))\n",
    "plt.scatter(xvalues,yvalues)\n",
    "plt.plot(xvalues,regress_values,\"r-\")\n",
    "plt.annotate(line_eq, (6,10), fontsize=15, color='red')\n",
    "plt.title('Southern Hemisphere - Wind Speed vs. Latitude')\n",
    "plt.xlabel('Latititude')\n",
    "plt.ylabel('Wind Speed (mph)')\n",
    "plt.grid(True)\n",
    "print(f\"The r-squared is: {rvalue**2}\")\n",
    "# Save the figure.\n",
    "plt.savefig('Images/North_Wind_vs_Lat.png')"
   ]
  },
  {
   "cell_type": "markdown",
   "metadata": {},
   "source": [
    "####  Southern Hemisphere - Wind Speed (mph) vs. Latitude Linear Regression"
   ]
  },
  {
   "cell_type": "code",
   "execution_count": 47,
   "metadata": {},
   "outputs": [
    {
     "data": {
      "text/plain": [
       "Text(0, 0.5, 'Temperature (f)')"
      ]
     },
     "execution_count": 47,
     "metadata": {},
     "output_type": "execute_result"
    },
    {
     "data": {
      "image/png": "[encoded data removed]",
      "text/plain": [
       "<Figure size 432x288 with 1 Axes>"
      ]
     },
     "metadata": {
      "needs_background": "light"
     },
     "output_type": "display_data"
    }
   ],
   "source": [
    "#Set Stuff\n",
    "xvalues = Southern_df.iloc[:,2]\n",
    "yvalues = Southern_df.iloc[:,6]\n",
    "(slope, intercept, rvalue, pvalue, stderr) = st.linregress(xvalues, yvalues)\n",
    "regress_values = xvalues * slope + intercept\n",
    "line_eq = \"y = \" +str(round(slope,2)) + 'x + ' + str(round(intercept,2))\n",
    "plt.scatter(xvalues,yvalues)\n",
    "plt.plot(xvalues,regress_values,\"r-\")\n",
    "plt.annotate(line_eq, (6,10), fontsize=15, color='red')\n",
    "plt.title('Southern Hemisphere - Temperature vs. Latitude')\n",
    "plt.xlabel('Latititude')\n",
    "plt.ylabel('Temperature (f)')\n",
    "plt.grid(True)\n",
    "print(f\"The r-squared is: {rvalue**2}\")\n",
    "# Save the figure.\n",
    "plt.savefig('Images/South_Wind_vs_Lat.png')"
   ]
  },
  {
   "cell_type": "code",
   "execution_count": null,
   "metadata": {},
   "outputs": [],
   "source": []
  }
 ],
 "metadata": {
  "anaconda-cloud": {},
  "kernel_info": {
   "name": "python3"
  },
  "kernelspec": {
   "display_name": "Python [conda env:PythonData]",
   "language": "python",
   "name": "conda-env-PythonData-py"
  },
  "language_info": {
   "codemirror_mode": {
    "name": "ipython",
    "version": 3
   },
   "file_extension": ".py",
   "mimetype": "text/x-python",
   "name": "python",
   "nbconvert_exporter": "python",
   "pygments_lexer": "ipython3",
   "version": "3.6.10"
  },
  "latex_envs": {
   "LaTeX_envs_menu_present": true,
   "autoclose": false,
   "autocomplete": true,
   "bibliofile": "biblio.bib",
   "cite_by": "apalike",
   "current_citInitial": 1,
   "eqLabelWithNumbers": true,
   "eqNumInitial": 1,
   "hotkeys": {
    "equation": "Ctrl-E",
    "itemize": "Ctrl-I"
   },
   "labels_anchors": false,
   "latex_user_defs": false,
   "report_style_numbering": false,
   "user_envs_cfg": false
  },
  "nteract": {
   "version": "0.12.3"
  }
 },
 "nbformat": 4,
 "nbformat_minor": 2
}
