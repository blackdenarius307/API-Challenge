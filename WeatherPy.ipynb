{
 "cells": [
  {
   "cell_type": "markdown",
   "metadata": {},
   "source": [
    "# WeatherPy\n",
    "----\n",
    "\n",
    "#### Note\n",
    "* Instructions have been included for each segment. You do not have to follow them exactly, but they are included to help you think through the steps."
   ]
  },
  {
   "cell_type": "code",
   "execution_count": 1,
   "metadata": {
    "scrolled": true
   },
   "outputs": [],
   "source": [
    "import pandas as pd\n",
    "from matplotlib import pyplot as plt\n",
    "import json\n",
    "import requests\n",
    "from config import weather_key\n",
    "from citipy import citipy\n",
    "import time \n",
    "import numpy as np\n",
    "import random "
   ]
  },
  {
   "cell_type": "code",
   "execution_count": 2,
   "metadata": {},
   "outputs": [],
   "source": [
    "# Save config information\n",
    "url = \"http://api.openweathermap.org/data/2.5/weather?\"\n",
    "cities = []\n",
    "units =\"imperial\""
   ]
  },
  {
   "cell_type": "markdown",
   "metadata": {},
   "source": [
    "## Generate Cities List"
   ]
  },
  {
   "cell_type": "code",
   "execution_count": 3,
   "metadata": {},
   "outputs": [],
   "source": [
    "#Generate Longitudes, Latitudes, then Append the city names\n",
    "for i in range(100):\n",
    "    Long = round(random.uniform(-180, 180), 2)\n",
    "    Lat = round(random.uniform(-90, 90), 2)\n",
    "    city = citipy.nearest_city(Lat, Long).city_name\n",
    "    if city not in cities:\n",
    "        cities.append(city)"
   ]
  },
  {
   "cell_type": "markdown",
   "metadata": {},
   "source": [
    "### Perform API Calls\n",
    "* Perform a weather check on each city using a series of successive API calls.\n",
    "* Include a print log of each city as it'sbeing processed (with the city number and city name).\n"
   ]
  },
  {
   "cell_type": "code",
   "execution_count": 24,
   "metadata": {
    "scrolled": false
   },
   "outputs": [
    {
     "name": "stdout",
     "output_type": "stream",
     "text": [
      "Retrieving faya data. This is #1.\n",
      "Retrieving ushuaia data. This is #2.\n",
      "Retrieving krasne data. This is #3.\n",
      "Retrieving east london data. This is #4.\n",
      "Woopsie.\n",
      "Retrieving lompoc data. This is #5.\n",
      "Retrieving atuona data. This is #6.\n",
      "Retrieving baherden data. This is #7.\n",
      "Retrieving maceio data. This is #8.\n",
      "Retrieving upernavik data. This is #9.\n",
      "Retrieving ayan data. This is #10.\n",
      "Retrieving tagusao data. This is #11.\n",
      "Retrieving bredasdorp data. This is #12.\n",
      "Retrieving borovoy data. This is #13.\n",
      "Retrieving pevek data. This is #14.\n",
      "Retrieving van data. This is #15.\n",
      "Retrieving pindiga data. This is #16.\n",
      "Retrieving punta arenas data. This is #17.\n",
      "Retrieving huilong data. This is #18.\n",
      "Retrieving victoria data. This is #19.\n",
      "Retrieving moron data. This is #20.\n",
      "Retrieving college data. This is #21.\n",
      "Retrieving san rafael data. This is #22.\n",
      "Retrieving albany data. This is #23.\n",
      "Retrieving carnarvon data. This is #24.\n",
      "Woopsie.\n",
      "Retrieving sechenovo data. This is #25.\n",
      "Retrieving bilibino data. This is #26.\n",
      "Retrieving busselton data. This is #27.\n",
      "Retrieving padang data. This is #28.\n",
      "Retrieving norman wells data. This is #29.\n",
      "Retrieving dikson data. This is #30.\n",
      "Retrieving tres picos data. This is #31.\n",
      "Retrieving salamiyah data. This is #32.\n",
      "Retrieving wanning data. This is #33.\n",
      "Retrieving rikitea data. This is #34.\n",
      "Retrieving huarmey data. This is #35.\n",
      "Retrieving esperance data. This is #36.\n",
      "Retrieving calabozo data. This is #37.\n",
      "Retrieving tuktoyaktuk data. This is #38.\n",
      "Retrieving cape town data. This is #39.\n",
      "Retrieving kaitangata data. This is #40.\n",
      "Retrieving hermanus data. This is #41.\n",
      "Retrieving hobart data. This is #42.\n",
      "Retrieving port alfred data. This is #43.\n",
      "Retrieving adrar data. This is #44.\n",
      "Retrieving delijan data. This is #45.\n",
      "Retrieving havre-saint-pierre data. This is #46.\n",
      "Retrieving nola data. This is #47.\n",
      "Retrieving puerto ayora data. This is #48.\n",
      "Retrieving khatanga data. This is #49.\n",
      "Woopsie.\n",
      "Retrieving mataura data. This is #50.\n",
      "Retrieving avarua data. This is #51.\n",
      "Woopsie.\n",
      "Retrieving mitsamiouli data. This is #52.\n",
      "Retrieving kikerino data. This is #53.\n",
      "Retrieving jamestown data. This is #54.\n",
      "Retrieving torbay data. This is #55.\n",
      "Retrieving opuwo data. This is #56.\n",
      "Retrieving jiangkou data. This is #57.\n",
      "Retrieving new norfolk data. This is #58.\n",
      "Woopsie.\n",
      "Retrieving bluff data. This is #59.\n",
      "Retrieving vaini data. This is #60.\n",
      "Retrieving vanimo data. This is #61.\n",
      "Retrieving morondava data. This is #62.\n",
      "Woopsie.\n",
      "Retrieving jardim data. This is #63.\n",
      "Retrieving katobu data. This is #64.\n",
      "Retrieving jibuti data. This is #65.\n",
      "Retrieving soloneshnoye data. This is #66.\n",
      "Retrieving kapaa data. This is #67.\n",
      "Retrieving cabedelo data. This is #68.\n",
      "Retrieving juneau data. This is #69.\n",
      "Retrieving saquarema data. This is #70.\n",
      "Retrieving sao joao da barra data. This is #71.\n",
      "Retrieving vao data. This is #72.\n",
      "Retrieving mar del plata data. This is #73.\n",
      "Woopsie.\n",
      "Retrieving sibolga data. This is #74.\n"
     ]
    }
   ],
   "source": [
    "# Get weather data\n",
    "counter = 0\n",
    "name_city = []\n",
    "longitude = []\n",
    "latitude = []\n",
    "max_temp = []\n",
    "humidity = []\n",
    "cloudiness = []\n",
    "wind_speed = []\n",
    "\n",
    "for city in cities:\n",
    "    try:\n",
    "        query_url = url + \"appid=\" + weather_key + \"&q=\" + city + \"&units=\" + units\n",
    "        weather_response = requests.get(query_url)\n",
    "        weather_json = weather_response.json()\n",
    "        name_city.append(weather_json['name'])\n",
    "        longitude.append(weather_json['coord']['lon'])\n",
    "        latitude.append(weather_json['coord']['lat'])\n",
    "        max_temp.append(weather_json['main']['temp_max'])\n",
    "        humidity.append(weather_json['main']['humidity'])\n",
    "        cloudiness.append(weather_json['clouds']['all'])\n",
    "        wind_speed.append(weather_json['wind']['speed'])\n",
    "        counter += 1\n",
    "        print(f'Retrieving {city} data. This is city #{counter}.')\n",
    "        time.sleep(1)\n",
    "    except:\n",
    "        print('Data not found. Move along home.')\n",
    "        continue"
   ]
  },
  {
   "cell_type": "markdown",
   "metadata": {},
   "source": [
    "# Convert Raw Data to DataFrame\n",
    "* Export the city data into a .csv.\n",
    "* Display the DataFrame"
   ]
  },
  {
   "cell_type": "code",
   "execution_count": 18,
   "metadata": {},
   "outputs": [],
   "source": [
    "data = {'City Name': name_city, 'Longtitude': longitude, 'Latitude': latitude, 'Temperature (f)':max_temp, 'Humidity':humidity,\\\n",
    "       'Cloudiness': cloudiness, 'Wind Speed (mph)': wind_speed}\n",
    "data_df = pd.DataFrame(data)"
   ]
  },
  {
   "cell_type": "code",
   "execution_count": 22,
   "metadata": {},
   "outputs": [
    {
     "data": {
      "text/html": [
       "<div>\n",
       "<style scoped>\n",
       "    .dataframe tbody tr th:only-of-type {\n",
       "        vertical-align: middle;\n",
       "    }\n",
       "\n",
       "    .dataframe tbody tr th {\n",
       "        vertical-align: top;\n",
       "    }\n",
       "\n",
       "    .dataframe thead th {\n",
       "        text-align: right;\n",
       "    }\n",
       "</style>\n",
       "<table border=\"1\" class=\"dataframe\">\n",
       "  <thead>\n",
       "    <tr style=\"text-align: right;\">\n",
       "      <th></th>\n",
       "      <th>City Name</th>\n",
       "      <th>Longtitude</th>\n",
       "      <th>Latitude</th>\n",
       "      <th>Temperature (f)</th>\n",
       "      <th>Humidity</th>\n",
       "      <th>Cloudiness</th>\n",
       "      <th>Wind Speed (mph)</th>\n",
       "    </tr>\n",
       "  </thead>\n",
       "  <tbody>\n",
       "    <tr>\n",
       "      <th>0</th>\n",
       "      <td>Faya</td>\n",
       "      <td>42.45</td>\n",
       "      <td>18.39</td>\n",
       "      <td>66.20</td>\n",
       "      <td>23</td>\n",
       "      <td>0</td>\n",
       "      <td>10.29</td>\n",
       "    </tr>\n",
       "    <tr>\n",
       "      <th>1</th>\n",
       "      <td>Ushuaia</td>\n",
       "      <td>-68.30</td>\n",
       "      <td>-54.80</td>\n",
       "      <td>33.80</td>\n",
       "      <td>74</td>\n",
       "      <td>40</td>\n",
       "      <td>25.28</td>\n",
       "    </tr>\n",
       "    <tr>\n",
       "      <th>2</th>\n",
       "      <td>Krasne</td>\n",
       "      <td>24.61</td>\n",
       "      <td>49.91</td>\n",
       "      <td>44.60</td>\n",
       "      <td>81</td>\n",
       "      <td>75</td>\n",
       "      <td>8.95</td>\n",
       "    </tr>\n",
       "    <tr>\n",
       "      <th>3</th>\n",
       "      <td>East London</td>\n",
       "      <td>27.91</td>\n",
       "      <td>-33.02</td>\n",
       "      <td>64.40</td>\n",
       "      <td>77</td>\n",
       "      <td>20</td>\n",
       "      <td>4.70</td>\n",
       "    </tr>\n",
       "    <tr>\n",
       "      <th>4</th>\n",
       "      <td>Lompoc</td>\n",
       "      <td>-120.46</td>\n",
       "      <td>34.64</td>\n",
       "      <td>57.20</td>\n",
       "      <td>93</td>\n",
       "      <td>90</td>\n",
       "      <td>3.36</td>\n",
       "    </tr>\n",
       "    <tr>\n",
       "      <th>...</th>\n",
       "      <td>...</td>\n",
       "      <td>...</td>\n",
       "      <td>...</td>\n",
       "      <td>...</td>\n",
       "      <td>...</td>\n",
       "      <td>...</td>\n",
       "      <td>...</td>\n",
       "    </tr>\n",
       "    <tr>\n",
       "      <th>69</th>\n",
       "      <td>Saquarema</td>\n",
       "      <td>-42.51</td>\n",
       "      <td>-22.92</td>\n",
       "      <td>68.58</td>\n",
       "      <td>82</td>\n",
       "      <td>98</td>\n",
       "      <td>15.37</td>\n",
       "    </tr>\n",
       "    <tr>\n",
       "      <th>70</th>\n",
       "      <td>São João da Barra</td>\n",
       "      <td>-41.05</td>\n",
       "      <td>-21.64</td>\n",
       "      <td>70.56</td>\n",
       "      <td>79</td>\n",
       "      <td>39</td>\n",
       "      <td>11.77</td>\n",
       "    </tr>\n",
       "    <tr>\n",
       "      <th>71</th>\n",
       "      <td>Vao</td>\n",
       "      <td>167.48</td>\n",
       "      <td>-22.67</td>\n",
       "      <td>72.00</td>\n",
       "      <td>79</td>\n",
       "      <td>100</td>\n",
       "      <td>16.58</td>\n",
       "    </tr>\n",
       "    <tr>\n",
       "      <th>72</th>\n",
       "      <td>Mar del Plata</td>\n",
       "      <td>-57.56</td>\n",
       "      <td>-38.00</td>\n",
       "      <td>62.60</td>\n",
       "      <td>93</td>\n",
       "      <td>90</td>\n",
       "      <td>5.82</td>\n",
       "    </tr>\n",
       "    <tr>\n",
       "      <th>73</th>\n",
       "      <td>Sibolga</td>\n",
       "      <td>98.78</td>\n",
       "      <td>1.74</td>\n",
       "      <td>87.40</td>\n",
       "      <td>56</td>\n",
       "      <td>100</td>\n",
       "      <td>4.81</td>\n",
       "    </tr>\n",
       "  </tbody>\n",
       "</table>\n",
       "<p>74 rows × 7 columns</p>\n",
       "</div>"
      ],
      "text/plain": [
       "            City Name  Longtitude  Latitude  Temperature (f)  Humidity  \\\n",
       "0                Faya       42.45     18.39            66.20        23   \n",
       "1             Ushuaia      -68.30    -54.80            33.80        74   \n",
       "2              Krasne       24.61     49.91            44.60        81   \n",
       "3         East London       27.91    -33.02            64.40        77   \n",
       "4              Lompoc     -120.46     34.64            57.20        93   \n",
       "..                ...         ...       ...              ...       ...   \n",
       "69          Saquarema      -42.51    -22.92            68.58        82   \n",
       "70  São João da Barra      -41.05    -21.64            70.56        79   \n",
       "71                Vao      167.48    -22.67            72.00        79   \n",
       "72      Mar del Plata      -57.56    -38.00            62.60        93   \n",
       "73            Sibolga       98.78      1.74            87.40        56   \n",
       "\n",
       "    Cloudiness  Wind Speed (mph)  \n",
       "0            0             10.29  \n",
       "1           40             25.28  \n",
       "2           75              8.95  \n",
       "3           20              4.70  \n",
       "4           90              3.36  \n",
       "..         ...               ...  \n",
       "69          98             15.37  \n",
       "70          39             11.77  \n",
       "71         100             16.58  \n",
       "72          90              5.82  \n",
       "73         100              4.81  \n",
       "\n",
       "[74 rows x 7 columns]"
      ]
     },
     "execution_count": 22,
     "metadata": {},
     "output_type": "execute_result"
    }
   ],
   "source": [
    "data_df"
   ]
  },
  {
   "cell_type": "markdown",
   "metadata": {},
   "source": [
    "## Inspect the data and remove the cities where the humidity > 100%.\n",
    "----\n",
    "Skip this step if there are no cities that have humidity > 100%. "
   ]
  },
  {
   "cell_type": "code",
   "execution_count": 21,
   "metadata": {},
   "outputs": [
    {
     "data": {
      "text/html": [
       "<div>\n",
       "<style scoped>\n",
       "    .dataframe tbody tr th:only-of-type {\n",
       "        vertical-align: middle;\n",
       "    }\n",
       "\n",
       "    .dataframe tbody tr th {\n",
       "        vertical-align: top;\n",
       "    }\n",
       "\n",
       "    .dataframe thead th {\n",
       "        text-align: right;\n",
       "    }\n",
       "</style>\n",
       "<table border=\"1\" class=\"dataframe\">\n",
       "  <thead>\n",
       "    <tr style=\"text-align: right;\">\n",
       "      <th></th>\n",
       "      <th>City Name</th>\n",
       "      <th>Longtitude</th>\n",
       "      <th>Latitude</th>\n",
       "      <th>Temperature (f)</th>\n",
       "      <th>Humidity</th>\n",
       "      <th>Cloudiness</th>\n",
       "      <th>Wind Speed (mph)</th>\n",
       "    </tr>\n",
       "  </thead>\n",
       "  <tbody>\n",
       "    <tr>\n",
       "      <th>0</th>\n",
       "      <td>Faya</td>\n",
       "      <td>42.45</td>\n",
       "      <td>18.39</td>\n",
       "      <td>66.20</td>\n",
       "      <td>23</td>\n",
       "      <td>0</td>\n",
       "      <td>10.29</td>\n",
       "    </tr>\n",
       "    <tr>\n",
       "      <th>1</th>\n",
       "      <td>Ushuaia</td>\n",
       "      <td>-68.30</td>\n",
       "      <td>-54.80</td>\n",
       "      <td>33.80</td>\n",
       "      <td>74</td>\n",
       "      <td>40</td>\n",
       "      <td>25.28</td>\n",
       "    </tr>\n",
       "    <tr>\n",
       "      <th>2</th>\n",
       "      <td>Krasne</td>\n",
       "      <td>24.61</td>\n",
       "      <td>49.91</td>\n",
       "      <td>44.60</td>\n",
       "      <td>81</td>\n",
       "      <td>75</td>\n",
       "      <td>8.95</td>\n",
       "    </tr>\n",
       "    <tr>\n",
       "      <th>3</th>\n",
       "      <td>East London</td>\n",
       "      <td>27.91</td>\n",
       "      <td>-33.02</td>\n",
       "      <td>64.40</td>\n",
       "      <td>77</td>\n",
       "      <td>20</td>\n",
       "      <td>4.70</td>\n",
       "    </tr>\n",
       "    <tr>\n",
       "      <th>4</th>\n",
       "      <td>Lompoc</td>\n",
       "      <td>-120.46</td>\n",
       "      <td>34.64</td>\n",
       "      <td>57.20</td>\n",
       "      <td>93</td>\n",
       "      <td>90</td>\n",
       "      <td>3.36</td>\n",
       "    </tr>\n",
       "    <tr>\n",
       "      <th>...</th>\n",
       "      <td>...</td>\n",
       "      <td>...</td>\n",
       "      <td>...</td>\n",
       "      <td>...</td>\n",
       "      <td>...</td>\n",
       "      <td>...</td>\n",
       "      <td>...</td>\n",
       "    </tr>\n",
       "    <tr>\n",
       "      <th>69</th>\n",
       "      <td>Saquarema</td>\n",
       "      <td>-42.51</td>\n",
       "      <td>-22.92</td>\n",
       "      <td>68.58</td>\n",
       "      <td>82</td>\n",
       "      <td>98</td>\n",
       "      <td>15.37</td>\n",
       "    </tr>\n",
       "    <tr>\n",
       "      <th>70</th>\n",
       "      <td>São João da Barra</td>\n",
       "      <td>-41.05</td>\n",
       "      <td>-21.64</td>\n",
       "      <td>70.56</td>\n",
       "      <td>79</td>\n",
       "      <td>39</td>\n",
       "      <td>11.77</td>\n",
       "    </tr>\n",
       "    <tr>\n",
       "      <th>71</th>\n",
       "      <td>Vao</td>\n",
       "      <td>167.48</td>\n",
       "      <td>-22.67</td>\n",
       "      <td>72.00</td>\n",
       "      <td>79</td>\n",
       "      <td>100</td>\n",
       "      <td>16.58</td>\n",
       "    </tr>\n",
       "    <tr>\n",
       "      <th>72</th>\n",
       "      <td>Mar del Plata</td>\n",
       "      <td>-57.56</td>\n",
       "      <td>-38.00</td>\n",
       "      <td>62.60</td>\n",
       "      <td>93</td>\n",
       "      <td>90</td>\n",
       "      <td>5.82</td>\n",
       "    </tr>\n",
       "    <tr>\n",
       "      <th>73</th>\n",
       "      <td>Sibolga</td>\n",
       "      <td>98.78</td>\n",
       "      <td>1.74</td>\n",
       "      <td>87.40</td>\n",
       "      <td>56</td>\n",
       "      <td>100</td>\n",
       "      <td>4.81</td>\n",
       "    </tr>\n",
       "  </tbody>\n",
       "</table>\n",
       "<p>74 rows × 7 columns</p>\n",
       "</div>"
      ],
      "text/plain": [
       "            City Name  Longtitude  Latitude  Temperature (f)  Humidity  \\\n",
       "0                Faya       42.45     18.39            66.20        23   \n",
       "1             Ushuaia      -68.30    -54.80            33.80        74   \n",
       "2              Krasne       24.61     49.91            44.60        81   \n",
       "3         East London       27.91    -33.02            64.40        77   \n",
       "4              Lompoc     -120.46     34.64            57.20        93   \n",
       "..                ...         ...       ...              ...       ...   \n",
       "69          Saquarema      -42.51    -22.92            68.58        82   \n",
       "70  São João da Barra      -41.05    -21.64            70.56        79   \n",
       "71                Vao      167.48    -22.67            72.00        79   \n",
       "72      Mar del Plata      -57.56    -38.00            62.60        93   \n",
       "73            Sibolga       98.78      1.74            87.40        56   \n",
       "\n",
       "    Cloudiness  Wind Speed (mph)  \n",
       "0            0             10.29  \n",
       "1           40             25.28  \n",
       "2           75              8.95  \n",
       "3           20              4.70  \n",
       "4           90              3.36  \n",
       "..         ...               ...  \n",
       "69          98             15.37  \n",
       "70          39             11.77  \n",
       "71         100             16.58  \n",
       "72          90              5.82  \n",
       "73         100              4.81  \n",
       "\n",
       "[74 rows x 7 columns]"
      ]
     },
     "execution_count": 21,
     "metadata": {},
     "output_type": "execute_result"
    }
   ],
   "source": [
    "data_df[data_df['Humidity'] <= 100]"
   ]
  },
  {
   "cell_type": "code",
   "execution_count": 12,
   "metadata": {},
   "outputs": [
    {
     "data": {
      "text/plain": [
       "Series([], Name: Humidity, dtype: bool)"
      ]
     },
     "execution_count": 12,
     "metadata": {},
     "output_type": "execute_result"
    }
   ],
   "source": [
    "#  Get the indices of cities that have humidity over 100%.\n"
   ]
  },
  {
   "cell_type": "code",
   "execution_count": null,
   "metadata": {},
   "outputs": [],
   "source": [
    "# Make a new DataFrame equal to the city data to drop all humidity outliers by index.\n",
    "# Passing \"inplace=False\" will make a copy of the city_data DataFrame, which we call \"clean_city_data\".\n"
   ]
  },
  {
   "cell_type": "code",
   "execution_count": null,
   "metadata": {},
   "outputs": [],
   "source": [
    "\n"
   ]
  },
  {
   "cell_type": "markdown",
   "metadata": {},
   "source": [
    "## Plotting the Data\n",
    "* Use proper labeling of the plots using plot titles (including date of analysis) and axes labels.\n",
    "* Save the plotted figures as .pngs."
   ]
  },
  {
   "cell_type": "markdown",
   "metadata": {},
   "source": [
    "## Latitude vs. Temperature Plot"
   ]
  },
  {
   "cell_type": "code",
   "execution_count": 20,
   "metadata": {
    "scrolled": true
   },
   "outputs": [
    {
     "data": {
      "text/plain": [
       "Text(0.5, 1.0, 'Latitude vs. Temperature (f)')"
      ]
     },
     "execution_count": 20,
     "metadata": {},
     "output_type": "execute_result"
    },
    {
     "data": {
      "image/png": "[encoded data removed]",
      "text/plain": [
       "<Figure size 432x288 with 1 Axes>"
      ]
     },
     "metadata": {
      "needs_background": "light"
     },
     "output_type": "display_data"
    }
   ],
   "source": [
    "Lattemp = data_df['Latitude']\n",
    "Templat = data_df['Temperature (f)']\n",
    "plt.scatter(Lattemp, Templat)\n",
    "plt.xlabel('Latitude')\n",
    "plt.ylabel('Temperature (f)')\n",
    "plt.title('Latitude vs. Temperature (f)')"
   ]
  },
  {
   "cell_type": "markdown",
   "metadata": {},
   "source": [
    "## Latitude vs. Humidity Plot"
   ]
  },
  {
   "cell_type": "code",
   "execution_count": 15,
   "metadata": {},
   "outputs": [
    {
     "data": {
      "text/plain": [
       "Text(0.5, 1.0, 'Latitude vs. Humidity')"
      ]
     },
     "execution_count": 15,
     "metadata": {},
     "output_type": "execute_result"
    },
    {
     "data": {
      "image/png": "[encoded data removed]",
      "text/plain": [
       "<Figure size 432x288 with 1 Axes>"
      ]
     },
     "metadata": {
      "needs_background": "light"
     },
     "output_type": "display_data"
    }
   ],
   "source": [
    "Lathum = data_df['Latitude']\n",
    "Humlat = data_df['Humidity']\n",
    "plt.scatter(Lathum, Humlat)\n",
    "plt.xlabel('Latitude')\n",
    "plt.ylabel('Humidity')\n",
    "plt.title('Latitude vs. Humidity')"
   ]
  },
  {
   "cell_type": "markdown",
   "metadata": {},
   "source": [
    "## Latitude vs. Cloudiness Plot"
   ]
  },
  {
   "cell_type": "code",
   "execution_count": 16,
   "metadata": {},
   "outputs": [
    {
     "data": {
      "text/plain": [
       "Text(0.5, 1.0, 'Latitude vs. Cloudiness')"
      ]
     },
     "execution_count": 16,
     "metadata": {},
     "output_type": "execute_result"
    },
    {
     "data": {
      "image/png": "[encoded data removed]",
      "text/plain": [
       "<Figure size 432x288 with 1 Axes>"
      ]
     },
     "metadata": {
      "needs_background": "light"
     },
     "output_type": "display_data"
    }
   ],
   "source": [
    "Latcloud = data_df['Latitude']\n",
    "Cloudlat = data_df['Cloudiness']\n",
    "plt.scatter(Latcloud, Cloudlat)\n",
    "plt.xlabel('Latitude')\n",
    "plt.ylabel('Cloudiness')\n",
    "plt.title('Latitude vs. Cloudiness')"
   ]
  },
  {
   "cell_type": "markdown",
   "metadata": {},
   "source": [
    "## Latitude vs. Wind Speed Plot"
   ]
  },
  {
   "cell_type": "code",
   "execution_count": 17,
   "metadata": {},
   "outputs": [
    {
     "data": {
      "text/plain": [
       "Text(0.5, 1.0, 'Latitude vs. Wind Speed')"
      ]
     },
     "execution_count": 17,
     "metadata": {},
     "output_type": "execute_result"
    },
    {
     "data": {
      "image/png": "[encoded data removed]",
      "text/plain": [
       "<Figure size 432x288 with 1 Axes>"
      ]
     },
     "metadata": {
      "needs_background": "light"
     },
     "output_type": "display_data"
    }
   ],
   "source": [
    "Latwind = data_df['Latitude']\n",
    "Windlat = data_df['Wind Speed (mph)']\n",
    "plt.scatter(Latwind, Windlat)\n",
    "plt.xlabel('Latitude')\n",
    "plt.ylabel('Wind Speed (mph)')\n",
    "plt.title('Latitude vs. Wind Speed (mph)')"
   ]
  },
  {
   "cell_type": "markdown",
   "metadata": {},
   "source": [
    "## Linear Regression"
   ]
  },
  {
   "cell_type": "code",
   "execution_count": null,
   "metadata": {},
   "outputs": [],
   "source": []
  },
  {
   "cell_type": "markdown",
   "metadata": {},
   "source": [
    "####  Northern Hemisphere - Max Temp vs. Latitude Linear Regression"
   ]
  },
  {
   "cell_type": "code",
   "execution_count": null,
   "metadata": {},
   "outputs": [],
   "source": []
  },
  {
   "cell_type": "markdown",
   "metadata": {},
   "source": [
    "####  Southern Hemisphere - Max Temp vs. Latitude Linear Regression"
   ]
  },
  {
   "cell_type": "code",
   "execution_count": null,
   "metadata": {},
   "outputs": [],
   "source": []
  },
  {
   "cell_type": "markdown",
   "metadata": {},
   "source": [
    "####  Northern Hemisphere - Humidity (%) vs. Latitude Linear Regression"
   ]
  },
  {
   "cell_type": "code",
   "execution_count": null,
   "metadata": {},
   "outputs": [],
   "source": []
  },
  {
   "cell_type": "markdown",
   "metadata": {},
   "source": [
    "####  Southern Hemisphere - Humidity (%) vs. Latitude Linear Regression"
   ]
  },
  {
   "cell_type": "code",
   "execution_count": null,
   "metadata": {},
   "outputs": [],
   "source": []
  },
  {
   "cell_type": "markdown",
   "metadata": {},
   "source": [
    "####  Northern Hemisphere - Cloudiness (%) vs. Latitude Linear Regression"
   ]
  },
  {
   "cell_type": "code",
   "execution_count": null,
   "metadata": {},
   "outputs": [],
   "source": []
  },
  {
   "cell_type": "markdown",
   "metadata": {},
   "source": [
    "####  Southern Hemisphere - Cloudiness (%) vs. Latitude Linear Regression"
   ]
  },
  {
   "cell_type": "code",
   "execution_count": null,
   "metadata": {},
   "outputs": [],
   "source": []
  },
  {
   "cell_type": "markdown",
   "metadata": {},
   "source": [
    "####  Northern Hemisphere - Wind Speed (mph) vs. Latitude Linear Regression"
   ]
  },
  {
   "cell_type": "code",
   "execution_count": null,
   "metadata": {},
   "outputs": [],
   "source": []
  },
  {
   "cell_type": "markdown",
   "metadata": {},
   "source": [
    "####  Southern Hemisphere - Wind Speed (mph) vs. Latitude Linear Regression"
   ]
  },
  {
   "cell_type": "code",
   "execution_count": null,
   "metadata": {},
   "outputs": [],
   "source": []
  },
  {
   "cell_type": "code",
   "execution_count": null,
   "metadata": {},
   "outputs": [],
   "source": []
  }
 ],
 "metadata": {
  "anaconda-cloud": {},
  "kernel_info": {
   "name": "python3"
  },
  "kernelspec": {
   "display_name": "Python [conda env:PythonData]",
   "language": "python",
   "name": "conda-env-PythonData-py"
  },
  "language_info": {
   "codemirror_mode": {
    "name": "ipython",
    "version": 3
   },
   "file_extension": ".py",
   "mimetype": "text/x-python",
   "name": "python",
   "nbconvert_exporter": "python",
   "pygments_lexer": "ipython3",
   "version": "3.6.10"
  },
  "latex_envs": {
   "LaTeX_envs_menu_present": true,
   "autoclose": false,
   "autocomplete": true,
   "bibliofile": "biblio.bib",
   "cite_by": "apalike",
   "current_citInitial": 1,
   "eqLabelWithNumbers": true,
   "eqNumInitial": 1,
   "hotkeys": {
    "equation": "Ctrl-E",
    "itemize": "Ctrl-I"
   },
   "labels_anchors": false,
   "latex_user_defs": false,
   "report_style_numbering": false,
   "user_envs_cfg": false
  },
  "nteract": {
   "version": "0.12.3"
  }
 },
 "nbformat": 4,
 "nbformat_minor": 2
}
