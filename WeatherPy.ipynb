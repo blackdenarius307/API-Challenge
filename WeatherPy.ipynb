{
 "cells": [
  {
   "cell_type": "markdown",
   "metadata": {},
   "source": [
    "# WeatherPy\n",
    "----\n",
    "\n",
    "#### Note\n",
    "* Instructions have been included for each segment. You do not have to follow them exactly, but they are included to help you think through the steps."
   ]
  },
  {
   "cell_type": "code",
   "execution_count": 1,
   "metadata": {
    "scrolled": true
   },
   "outputs": [],
   "source": [
    "import pandas as pd\n",
    "from matplotlib import pyplot as plt\n",
    "import json\n",
    "import requests\n",
    "from config import weather_key\n",
    "from citipy import citipy\n",
    "import time \n",
    "import numpy as np\n",
    "import random "
   ]
  },
  {
   "cell_type": "code",
   "execution_count": 2,
   "metadata": {},
   "outputs": [],
   "source": [
    "# Save config information\n",
    "url = \"http://api.openweathermap.org/data/2.5/weather?\"\n",
    "cities = []\n",
    "units =\"imperial\""
   ]
  },
  {
   "cell_type": "markdown",
   "metadata": {},
   "source": [
    "## Generate Cities List"
   ]
  },
  {
   "cell_type": "code",
   "execution_count": 3,
   "metadata": {},
   "outputs": [],
   "source": [
    "#Generate Longitudes, Latitudes, then Append the city names\n",
    "for i in range(100):\n",
    "    Long = round(random.uniform(-180, 180), 2)\n",
    "    Lat = round(random.uniform(-90, 90), 2)\n",
    "    city = citipy.nearest_city(Lat, Long).city_name\n",
    "    if city not in cities:\n",
    "        cities.append(city)"
   ]
  },
  {
   "cell_type": "markdown",
   "metadata": {},
   "source": [
    "### Perform API Calls\n",
    "* Perform a weather check on each city using a series of successive API calls.\n",
    "* Include a print log of each city as it'sbeing processed (with the city number and city name).\n"
   ]
  },
  {
   "cell_type": "code",
   "execution_count": 4,
   "metadata": {
    "scrolled": false
   },
   "outputs": [
    {
     "name": "stdout",
     "output_type": "stream",
     "text": [
      "Woopsie.\n",
      "Woopsie.\n",
      "Woopsie.\n",
      "Woopsie.\n",
      "Woopsie.\n",
      "Woopsie.\n",
      "Woopsie.\n"
     ]
    }
   ],
   "source": [
    "# Get weather data\n",
    "name_city = []\n",
    "longitude = []\n",
    "latitude = []\n",
    "max_temp = []\n",
    "humidity = []\n",
    "cloudiness = []\n",
    "wind_speed = []\n",
    "\n",
    "for city in cities:\n",
    "    try:\n",
    "        query_url = url + \"appid=\" + weather_key + \"&q=\" + city + \"&units=\" + units\n",
    "        weather_response = requests.get(query_url)\n",
    "        weather_json = weather_response.json()\n",
    "        name_city.append(weather_json['name'])\n",
    "        longitude.append(weather_json['coord']['lon'])\n",
    "        latitude.append(weather_json['coord']['lat'])\n",
    "        max_temp.append(weather_json['main']['temp_max'])\n",
    "        humidity.append(weather_json['main']['humidity'])\n",
    "        cloudiness.append(weather_json['clouds']['all'])\n",
    "        wind_speed.append(weather_json['wind']['speed'])\n",
    "        time.sleep(1)\n",
    "    except:\n",
    "        print('Woopsie.')\n",
    "        continue"
   ]
  },
  {
   "cell_type": "markdown",
   "metadata": {},
   "source": [
    "### Convert Raw Data to DataFrame\n",
    "* Export the city data into a .csv.\n",
    "* Display the DataFrame"
   ]
  },
  {
   "cell_type": "code",
   "execution_count": 5,
   "metadata": {},
   "outputs": [],
   "source": [
    "data = {'City Name': name_city, 'Longtitude': longitude, 'Latitude': latitude, 'Temperature':max_temp, 'Humidity':humidity,\\\n",
    "       'Cloudiness': cloudiness, 'Wind Speed': wind_speed}\n",
    "data_df = pd.DataFrame(data)"
   ]
  },
  {
   "cell_type": "code",
   "execution_count": 6,
   "metadata": {},
   "outputs": [
    {
     "data": {
      "text/html": [
       "<div>\n",
       "<style scoped>\n",
       "    .dataframe tbody tr th:only-of-type {\n",
       "        vertical-align: middle;\n",
       "    }\n",
       "\n",
       "    .dataframe tbody tr th {\n",
       "        vertical-align: top;\n",
       "    }\n",
       "\n",
       "    .dataframe thead th {\n",
       "        text-align: right;\n",
       "    }\n",
       "</style>\n",
       "<table border=\"1\" class=\"dataframe\">\n",
       "  <thead>\n",
       "    <tr style=\"text-align: right;\">\n",
       "      <th></th>\n",
       "      <th>City Name</th>\n",
       "      <th>Longtitude</th>\n",
       "      <th>Latitude</th>\n",
       "      <th>Temperature</th>\n",
       "      <th>Humidity</th>\n",
       "      <th>Cloudiness</th>\n",
       "      <th>Wind Speed</th>\n",
       "    </tr>\n",
       "  </thead>\n",
       "  <tbody>\n",
       "    <tr>\n",
       "      <th>0</th>\n",
       "      <td>Faya</td>\n",
       "      <td>42.45</td>\n",
       "      <td>18.39</td>\n",
       "      <td>66.20</td>\n",
       "      <td>23</td>\n",
       "      <td>0</td>\n",
       "      <td>10.29</td>\n",
       "    </tr>\n",
       "    <tr>\n",
       "      <th>1</th>\n",
       "      <td>Ushuaia</td>\n",
       "      <td>-68.30</td>\n",
       "      <td>-54.80</td>\n",
       "      <td>33.80</td>\n",
       "      <td>74</td>\n",
       "      <td>40</td>\n",
       "      <td>25.28</td>\n",
       "    </tr>\n",
       "    <tr>\n",
       "      <th>2</th>\n",
       "      <td>Krasne</td>\n",
       "      <td>24.61</td>\n",
       "      <td>49.91</td>\n",
       "      <td>44.60</td>\n",
       "      <td>81</td>\n",
       "      <td>75</td>\n",
       "      <td>8.95</td>\n",
       "    </tr>\n",
       "    <tr>\n",
       "      <th>3</th>\n",
       "      <td>East London</td>\n",
       "      <td>27.91</td>\n",
       "      <td>-33.02</td>\n",
       "      <td>64.40</td>\n",
       "      <td>77</td>\n",
       "      <td>20</td>\n",
       "      <td>4.70</td>\n",
       "    </tr>\n",
       "    <tr>\n",
       "      <th>4</th>\n",
       "      <td>Lompoc</td>\n",
       "      <td>-120.46</td>\n",
       "      <td>34.64</td>\n",
       "      <td>57.20</td>\n",
       "      <td>93</td>\n",
       "      <td>90</td>\n",
       "      <td>3.36</td>\n",
       "    </tr>\n",
       "    <tr>\n",
       "      <th>5</th>\n",
       "      <td>Atuona</td>\n",
       "      <td>-139.03</td>\n",
       "      <td>-9.80</td>\n",
       "      <td>78.28</td>\n",
       "      <td>76</td>\n",
       "      <td>0</td>\n",
       "      <td>21.25</td>\n",
       "    </tr>\n",
       "    <tr>\n",
       "      <th>6</th>\n",
       "      <td>Baharly</td>\n",
       "      <td>57.43</td>\n",
       "      <td>38.44</td>\n",
       "      <td>76.69</td>\n",
       "      <td>16</td>\n",
       "      <td>0</td>\n",
       "      <td>9.57</td>\n",
       "    </tr>\n",
       "    <tr>\n",
       "      <th>7</th>\n",
       "      <td>Maceió</td>\n",
       "      <td>-35.74</td>\n",
       "      <td>-9.67</td>\n",
       "      <td>68.00</td>\n",
       "      <td>100</td>\n",
       "      <td>40</td>\n",
       "      <td>3.36</td>\n",
       "    </tr>\n",
       "    <tr>\n",
       "      <th>8</th>\n",
       "      <td>Upernavik</td>\n",
       "      <td>-56.15</td>\n",
       "      <td>72.79</td>\n",
       "      <td>36.72</td>\n",
       "      <td>76</td>\n",
       "      <td>100</td>\n",
       "      <td>7.65</td>\n",
       "    </tr>\n",
       "    <tr>\n",
       "      <th>9</th>\n",
       "      <td>Ayan</td>\n",
       "      <td>138.17</td>\n",
       "      <td>56.45</td>\n",
       "      <td>29.10</td>\n",
       "      <td>83</td>\n",
       "      <td>22</td>\n",
       "      <td>18.03</td>\n",
       "    </tr>\n",
       "    <tr>\n",
       "      <th>10</th>\n",
       "      <td>Tagusao</td>\n",
       "      <td>117.81</td>\n",
       "      <td>9.19</td>\n",
       "      <td>82.65</td>\n",
       "      <td>75</td>\n",
       "      <td>100</td>\n",
       "      <td>5.46</td>\n",
       "    </tr>\n",
       "    <tr>\n",
       "      <th>11</th>\n",
       "      <td>Bredasdorp</td>\n",
       "      <td>20.04</td>\n",
       "      <td>-34.53</td>\n",
       "      <td>60.80</td>\n",
       "      <td>82</td>\n",
       "      <td>80</td>\n",
       "      <td>3.36</td>\n",
       "    </tr>\n",
       "    <tr>\n",
       "      <th>12</th>\n",
       "      <td>Borovoy</td>\n",
       "      <td>86.08</td>\n",
       "      <td>55.43</td>\n",
       "      <td>35.60</td>\n",
       "      <td>55</td>\n",
       "      <td>40</td>\n",
       "      <td>13.42</td>\n",
       "    </tr>\n",
       "    <tr>\n",
       "      <th>13</th>\n",
       "      <td>Pevek</td>\n",
       "      <td>170.31</td>\n",
       "      <td>69.70</td>\n",
       "      <td>26.19</td>\n",
       "      <td>94</td>\n",
       "      <td>4</td>\n",
       "      <td>17.22</td>\n",
       "    </tr>\n",
       "    <tr>\n",
       "      <th>14</th>\n",
       "      <td>Van</td>\n",
       "      <td>43.38</td>\n",
       "      <td>38.49</td>\n",
       "      <td>60.80</td>\n",
       "      <td>36</td>\n",
       "      <td>40</td>\n",
       "      <td>1.12</td>\n",
       "    </tr>\n",
       "    <tr>\n",
       "      <th>15</th>\n",
       "      <td>Pindiga</td>\n",
       "      <td>10.93</td>\n",
       "      <td>9.98</td>\n",
       "      <td>75.79</td>\n",
       "      <td>79</td>\n",
       "      <td>0</td>\n",
       "      <td>6.80</td>\n",
       "    </tr>\n",
       "    <tr>\n",
       "      <th>16</th>\n",
       "      <td>Punta Arenas</td>\n",
       "      <td>-70.92</td>\n",
       "      <td>-53.15</td>\n",
       "      <td>35.60</td>\n",
       "      <td>79</td>\n",
       "      <td>75</td>\n",
       "      <td>34.45</td>\n",
       "    </tr>\n",
       "    <tr>\n",
       "      <th>17</th>\n",
       "      <td>Huilong</td>\n",
       "      <td>121.66</td>\n",
       "      <td>31.81</td>\n",
       "      <td>73.00</td>\n",
       "      <td>54</td>\n",
       "      <td>0</td>\n",
       "      <td>1.99</td>\n",
       "    </tr>\n",
       "    <tr>\n",
       "      <th>18</th>\n",
       "      <td>Hong Kong</td>\n",
       "      <td>114.16</td>\n",
       "      <td>22.29</td>\n",
       "      <td>81.00</td>\n",
       "      <td>57</td>\n",
       "      <td>9</td>\n",
       "      <td>8.01</td>\n",
       "    </tr>\n",
       "    <tr>\n",
       "      <th>19</th>\n",
       "      <td>Morón</td>\n",
       "      <td>-58.62</td>\n",
       "      <td>-34.65</td>\n",
       "      <td>77.00</td>\n",
       "      <td>72</td>\n",
       "      <td>0</td>\n",
       "      <td>1.99</td>\n",
       "    </tr>\n",
       "  </tbody>\n",
       "</table>\n",
       "</div>"
      ],
      "text/plain": [
       "       City Name  Longtitude  Latitude  Temperature  Humidity  Cloudiness  \\\n",
       "0           Faya       42.45     18.39        66.20        23           0   \n",
       "1        Ushuaia      -68.30    -54.80        33.80        74          40   \n",
       "2         Krasne       24.61     49.91        44.60        81          75   \n",
       "3    East London       27.91    -33.02        64.40        77          20   \n",
       "4         Lompoc     -120.46     34.64        57.20        93          90   \n",
       "5         Atuona     -139.03     -9.80        78.28        76           0   \n",
       "6        Baharly       57.43     38.44        76.69        16           0   \n",
       "7         Maceió      -35.74     -9.67        68.00       100          40   \n",
       "8      Upernavik      -56.15     72.79        36.72        76         100   \n",
       "9           Ayan      138.17     56.45        29.10        83          22   \n",
       "10       Tagusao      117.81      9.19        82.65        75         100   \n",
       "11    Bredasdorp       20.04    -34.53        60.80        82          80   \n",
       "12       Borovoy       86.08     55.43        35.60        55          40   \n",
       "13         Pevek      170.31     69.70        26.19        94           4   \n",
       "14           Van       43.38     38.49        60.80        36          40   \n",
       "15       Pindiga       10.93      9.98        75.79        79           0   \n",
       "16  Punta Arenas      -70.92    -53.15        35.60        79          75   \n",
       "17       Huilong      121.66     31.81        73.00        54           0   \n",
       "18     Hong Kong      114.16     22.29        81.00        57           9   \n",
       "19         Morón      -58.62    -34.65        77.00        72           0   \n",
       "\n",
       "    Wind Speed  \n",
       "0        10.29  \n",
       "1        25.28  \n",
       "2         8.95  \n",
       "3         4.70  \n",
       "4         3.36  \n",
       "5        21.25  \n",
       "6         9.57  \n",
       "7         3.36  \n",
       "8         7.65  \n",
       "9        18.03  \n",
       "10        5.46  \n",
       "11        3.36  \n",
       "12       13.42  \n",
       "13       17.22  \n",
       "14        1.12  \n",
       "15        6.80  \n",
       "16       34.45  \n",
       "17        1.99  \n",
       "18        8.01  \n",
       "19        1.99  "
      ]
     },
     "execution_count": 6,
     "metadata": {},
     "output_type": "execute_result"
    }
   ],
   "source": [
    "data_df.head(20)"
   ]
  },
  {
   "cell_type": "markdown",
   "metadata": {},
   "source": [
    "## Inspect the data and remove the cities where the humidity > 100%.\n",
    "----\n",
    "Skip this step if there are no cities that have humidity > 100%. "
   ]
  },
  {
   "cell_type": "code",
   "execution_count": 10,
   "metadata": {},
   "outputs": [],
   "source": [
    "clean_df = data_df.Humidity <= 100"
   ]
  },
  {
   "cell_type": "code",
   "execution_count": 12,
   "metadata": {},
   "outputs": [
    {
     "data": {
      "text/plain": [
       "Series([], Name: Humidity, dtype: bool)"
      ]
     },
     "execution_count": 12,
     "metadata": {},
     "output_type": "execute_result"
    }
   ],
   "source": [
    "#  Get the indices of cities that have humidity over 100%.\n"
   ]
  },
  {
   "cell_type": "code",
   "execution_count": null,
   "metadata": {},
   "outputs": [],
   "source": [
    "# Make a new DataFrame equal to the city data to drop all humidity outliers by index.\n",
    "# Passing \"inplace=False\" will make a copy of the city_data DataFrame, which we call \"clean_city_data\".\n"
   ]
  },
  {
   "cell_type": "code",
   "execution_count": null,
   "metadata": {},
   "outputs": [],
   "source": [
    "\n"
   ]
  },
  {
   "cell_type": "markdown",
   "metadata": {},
   "source": [
    "## Plotting the Data\n",
    "* Use proper labeling of the plots using plot titles (including date of analysis) and axes labels.\n",
    "* Save the plotted figures as .pngs."
   ]
  },
  {
   "cell_type": "markdown",
   "metadata": {},
   "source": [
    "## Latitude vs. Temperature Plot"
   ]
  },
  {
   "cell_type": "code",
   "execution_count": null,
   "metadata": {
    "scrolled": true
   },
   "outputs": [],
   "source": []
  },
  {
   "cell_type": "markdown",
   "metadata": {},
   "source": [
    "## Latitude vs. Humidity Plot"
   ]
  },
  {
   "cell_type": "code",
   "execution_count": null,
   "metadata": {},
   "outputs": [],
   "source": []
  },
  {
   "cell_type": "markdown",
   "metadata": {},
   "source": [
    "## Latitude vs. Cloudiness Plot"
   ]
  },
  {
   "cell_type": "code",
   "execution_count": null,
   "metadata": {},
   "outputs": [],
   "source": []
  },
  {
   "cell_type": "markdown",
   "metadata": {},
   "source": [
    "## Latitude vs. Wind Speed Plot"
   ]
  },
  {
   "cell_type": "code",
   "execution_count": null,
   "metadata": {},
   "outputs": [],
   "source": []
  },
  {
   "cell_type": "markdown",
   "metadata": {},
   "source": [
    "## Linear Regression"
   ]
  },
  {
   "cell_type": "code",
   "execution_count": null,
   "metadata": {},
   "outputs": [],
   "source": []
  },
  {
   "cell_type": "markdown",
   "metadata": {},
   "source": [
    "####  Northern Hemisphere - Max Temp vs. Latitude Linear Regression"
   ]
  },
  {
   "cell_type": "code",
   "execution_count": null,
   "metadata": {},
   "outputs": [],
   "source": []
  },
  {
   "cell_type": "markdown",
   "metadata": {},
   "source": [
    "####  Southern Hemisphere - Max Temp vs. Latitude Linear Regression"
   ]
  },
  {
   "cell_type": "code",
   "execution_count": null,
   "metadata": {},
   "outputs": [],
   "source": []
  },
  {
   "cell_type": "markdown",
   "metadata": {},
   "source": [
    "####  Northern Hemisphere - Humidity (%) vs. Latitude Linear Regression"
   ]
  },
  {
   "cell_type": "code",
   "execution_count": null,
   "metadata": {},
   "outputs": [],
   "source": []
  },
  {
   "cell_type": "markdown",
   "metadata": {},
   "source": [
    "####  Southern Hemisphere - Humidity (%) vs. Latitude Linear Regression"
   ]
  },
  {
   "cell_type": "code",
   "execution_count": null,
   "metadata": {},
   "outputs": [],
   "source": []
  },
  {
   "cell_type": "markdown",
   "metadata": {},
   "source": [
    "####  Northern Hemisphere - Cloudiness (%) vs. Latitude Linear Regression"
   ]
  },
  {
   "cell_type": "code",
   "execution_count": null,
   "metadata": {},
   "outputs": [],
   "source": []
  },
  {
   "cell_type": "markdown",
   "metadata": {},
   "source": [
    "####  Southern Hemisphere - Cloudiness (%) vs. Latitude Linear Regression"
   ]
  },
  {
   "cell_type": "code",
   "execution_count": null,
   "metadata": {},
   "outputs": [],
   "source": []
  },
  {
   "cell_type": "markdown",
   "metadata": {},
   "source": [
    "####  Northern Hemisphere - Wind Speed (mph) vs. Latitude Linear Regression"
   ]
  },
  {
   "cell_type": "code",
   "execution_count": null,
   "metadata": {},
   "outputs": [],
   "source": []
  },
  {
   "cell_type": "markdown",
   "metadata": {},
   "source": [
    "####  Southern Hemisphere - Wind Speed (mph) vs. Latitude Linear Regression"
   ]
  },
  {
   "cell_type": "code",
   "execution_count": null,
   "metadata": {},
   "outputs": [],
   "source": []
  },
  {
   "cell_type": "code",
   "execution_count": null,
   "metadata": {},
   "outputs": [],
   "source": []
  }
 ],
 "metadata": {
  "anaconda-cloud": {},
  "kernel_info": {
   "name": "python3"
  },
  "kernelspec": {
   "display_name": "Python [conda env:PythonData]",
   "language": "python",
   "name": "conda-env-PythonData-py"
  },
  "language_info": {
   "codemirror_mode": {
    "name": "ipython",
    "version": 3
   },
   "file_extension": ".py",
   "mimetype": "text/x-python",
   "name": "python",
   "nbconvert_exporter": "python",
   "pygments_lexer": "ipython3",
   "version": "3.6.10"
  },
  "latex_envs": {
   "LaTeX_envs_menu_present": true,
   "autoclose": false,
   "autocomplete": true,
   "bibliofile": "biblio.bib",
   "cite_by": "apalike",
   "current_citInitial": 1,
   "eqLabelWithNumbers": true,
   "eqNumInitial": 1,
   "hotkeys": {
    "equation": "Ctrl-E",
    "itemize": "Ctrl-I"
   },
   "labels_anchors": false,
   "latex_user_defs": false,
   "report_style_numbering": false,
   "user_envs_cfg": false
  },
  "nteract": {
   "version": "0.12.3"
  }
 },
 "nbformat": 4,
 "nbformat_minor": 2
}
