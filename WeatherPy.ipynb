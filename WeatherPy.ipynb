{
 "cells": [
  {
   "cell_type": "markdown",
   "metadata": {},
   "source": [
    "# WeatherPy\n",
    "----\n",
    "\n",
    "#### Note\n",
    "* Instructions have been included for each segment. You do not have to follow them exactly, but they are included to help you think through the steps."
   ]
  },
  {
   "cell_type": "code",
   "execution_count": 1,
   "metadata": {
    "scrolled": true
   },
   "outputs": [],
   "source": [
    "import pandas as pd\n",
    "from matplotlib import pyplot as plt\n",
    "import json\n",
    "import requests\n",
    "from config import weather_key\n",
    "from citipy import citipy\n",
    "import time \n",
    "import numpy as np\n",
    "import random "
   ]
  },
  {
   "cell_type": "code",
   "execution_count": 2,
   "metadata": {},
   "outputs": [],
   "source": [
    "# Save config information\n",
    "url = \"http://api.openweathermap.org/data/2.5/weather?\"\n",
    "cities = []\n",
    "units =\"imperial\""
   ]
  },
  {
   "cell_type": "markdown",
   "metadata": {},
   "source": [
    "## Generate Cities List"
   ]
  },
  {
   "cell_type": "code",
   "execution_count": 3,
   "metadata": {},
   "outputs": [],
   "source": [
    "#Generate Longitudes, Latitudes, then Append the city names\n",
    "for i in range(100):\n",
    "    Long = round(random.uniform(-180, 180), 2)\n",
    "    Lat = round(random.uniform(-90, 90), 2)\n",
    "    city = citipy.nearest_city(Lat, Long).city_name\n",
    "    if city not in cities:\n",
    "        cities.append(city)"
   ]
  },
  {
   "cell_type": "markdown",
   "metadata": {},
   "source": [
    "### Perform API Calls\n",
    "* Perform a weather check on each city using a series of successive API calls.\n",
    "* Include a print log of each city as it'sbeing processed (with the city number and city name).\n"
   ]
  },
  {
   "cell_type": "code",
   "execution_count": 4,
   "metadata": {
    "scrolled": false
   },
   "outputs": [
    {
     "name": "stdout",
     "output_type": "stream",
     "text": [
      "Retrieving front royal data. This is city #1.\n",
      "Data not found. Move along home.\n",
      "Retrieving cabedelo data. This is city #2.\n",
      "Retrieving kremenki data. This is city #3.\n",
      "Retrieving avarua data. This is city #4.\n",
      "Retrieving punta arenas data. This is city #5.\n",
      "Retrieving cobija data. This is city #6.\n",
      "Retrieving rikitea data. This is city #7.\n",
      "Retrieving cervo data. This is city #8.\n",
      "Retrieving albany data. This is city #9.\n",
      "Retrieving clyde river data. This is city #10.\n",
      "Retrieving tiksi data. This is city #11.\n",
      "Retrieving vestmanna data. This is city #12.\n",
      "Retrieving coihaique data. This is city #13.\n",
      "Retrieving cape town data. This is city #14.\n",
      "Retrieving maiduguri data. This is city #15.\n",
      "Data not found. Move along home.\n",
      "Retrieving mataura data. This is city #16.\n",
      "Retrieving thinadhoo data. This is city #17.\n",
      "Retrieving elban data. This is city #18.\n",
      "Retrieving kapaa data. This is city #19.\n",
      "Retrieving moron data. This is city #20.\n",
      "Retrieving homer data. This is city #21.\n",
      "Retrieving qasigiannguit data. This is city #22.\n",
      "Retrieving qaanaaq data. This is city #23.\n",
      "Retrieving agadir data. This is city #24.\n",
      "Retrieving lebu data. This is city #25.\n",
      "Retrieving ushuaia data. This is city #26.\n",
      "Retrieving kodiak data. This is city #27.\n",
      "Retrieving saldanha data. This is city #28.\n",
      "Retrieving cururupu data. This is city #29.\n",
      "Retrieving ilulissat data. This is city #30.\n",
      "Retrieving vaini data. This is city #31.\n",
      "Retrieving barrow data. This is city #32.\n",
      "Retrieving luderitz data. This is city #33.\n",
      "Retrieving chokurdakh data. This is city #34.\n",
      "Retrieving jiangyou data. This is city #35.\n",
      "Retrieving porto novo data. This is city #36.\n",
      "Retrieving bluff data. This is city #37.\n",
      "Retrieving saskylakh data. This is city #38.\n",
      "Data not found. Move along home.\n",
      "Retrieving jardim data. This is city #39.\n",
      "Retrieving kruisfontein data. This is city #40.\n",
      "Retrieving conceicao da barra data. This is city #41.\n",
      "Retrieving bambous virieux data. This is city #42.\n",
      "Retrieving christchurch data. This is city #43.\n",
      "Retrieving sangar data. This is city #44.\n",
      "Retrieving butaritari data. This is city #45.\n",
      "Data not found. Move along home.\n",
      "Retrieving pacific grove data. This is city #46.\n",
      "Retrieving tessalit data. This is city #47.\n",
      "Retrieving mangrol data. This is city #48.\n",
      "Retrieving port elizabeth data. This is city #49.\n",
      "Retrieving busselton data. This is city #50.\n",
      "Retrieving faanui data. This is city #51.\n",
      "Retrieving ust-kulom data. This is city #52.\n",
      "Retrieving hilo data. This is city #53.\n",
      "Retrieving prabumulih data. This is city #54.\n",
      "Retrieving east london data. This is city #55.\n",
      "Retrieving inchture data. This is city #56.\n",
      "Retrieving dali data. This is city #57.\n",
      "Retrieving hami data. This is city #58.\n",
      "Retrieving comodoro rivadavia data. This is city #59.\n",
      "Retrieving hermanus data. This is city #60.\n",
      "Retrieving chuy data. This is city #61.\n",
      "Retrieving port alfred data. This is city #62.\n",
      "Retrieving tilichiki data. This is city #63.\n",
      "Retrieving saint-philippe data. This is city #64.\n",
      "Retrieving tasiilaq data. This is city #65.\n",
      "Retrieving new norfolk data. This is city #66.\n",
      "Retrieving bida data. This is city #67.\n",
      "Retrieving yuanping data. This is city #68.\n",
      "Retrieving saint george data. This is city #69.\n",
      "Retrieving guerrero negro data. This is city #70.\n",
      "Retrieving cherskiy data. This is city #71.\n",
      "Data not found. Move along home.\n",
      "Retrieving sitka data. This is city #72.\n"
     ]
    }
   ],
   "source": [
    "# Get weather data\n",
    "counter = 0\n",
    "name_city = []\n",
    "longitude = []\n",
    "latitude = []\n",
    "max_temp = []\n",
    "humidity = []\n",
    "cloudiness = []\n",
    "wind_speed = []\n",
    "\n",
    "for city in cities:\n",
    "    try:\n",
    "        query_url = url + \"appid=\" + weather_key + \"&q=\" + city + \"&units=\" + units\n",
    "        weather_response = requests.get(query_url)\n",
    "        weather_json = weather_response.json()\n",
    "        name_city.append(weather_json['name'])\n",
    "        longitude.append(weather_json['coord']['lon'])\n",
    "        latitude.append(weather_json['coord']['lat'])\n",
    "        max_temp.append(weather_json['main']['temp_max'])\n",
    "        humidity.append(weather_json['main']['humidity'])\n",
    "        cloudiness.append(weather_json['clouds']['all'])\n",
    "        wind_speed.append(weather_json['wind']['speed'])\n",
    "        counter += 1\n",
    "        print(f'Retrieving {city} data. This is city #{counter}.')\n",
    "        time.sleep(1)\n",
    "    except:\n",
    "        print('Data not found. Move along home.')\n",
    "        continue"
   ]
  },
  {
   "cell_type": "markdown",
   "metadata": {},
   "source": [
    "# Convert Raw Data to DataFrame\n",
    "* Export the city data into a .csv.\n",
    "* Display the DataFrame"
   ]
  },
  {
   "cell_type": "code",
   "execution_count": 8,
   "metadata": {},
   "outputs": [],
   "source": [
    "data = {'City Name': name_city, 'Longtitude': longitude, 'Latitude': latitude, 'Temperature (f)':max_temp, 'Humidity':humidity,\\\n",
    "       'Cloudiness': cloudiness, 'Wind Speed (mph)': wind_speed}\n",
    "data_df = pd.DataFrame(data)"
   ]
  },
  {
   "cell_type": "markdown",
   "metadata": {},
   "source": [
    "## Inspect the data and remove the cities where the humidity > 100%.\n",
    "----\n",
    "Skip this step if there are no cities that have humidity > 100%. "
   ]
  },
  {
   "cell_type": "code",
   "execution_count": null,
   "metadata": {},
   "outputs": [],
   "source": [
    "#Cut out Humidity Outliers\n",
    "data_df[data_df['Humidity'] <= 100]"
   ]
  },
  {
   "cell_type": "code",
   "execution_count": 21,
   "metadata": {},
   "outputs": [],
   "source": [
    "#Push clean data set to CSV\n",
    "data_df.to_csv('Output Data/weather_data.csv')"
   ]
  },
  {
   "cell_type": "code",
   "execution_count": 17,
   "metadata": {},
   "outputs": [],
   "source": [
    "#Create Northern Hemisphere Dataframe\n",
    "Northern_df = data_df[data_df['Latitude'] > 0]"
   ]
  },
  {
   "cell_type": "code",
   "execution_count": 20,
   "metadata": {},
   "outputs": [
    {
     "data": {
      "text/html": [
       "<div>\n",
       "<style scoped>\n",
       "    .dataframe tbody tr th:only-of-type {\n",
       "        vertical-align: middle;\n",
       "    }\n",
       "\n",
       "    .dataframe tbody tr th {\n",
       "        vertical-align: top;\n",
       "    }\n",
       "\n",
       "    .dataframe thead th {\n",
       "        text-align: right;\n",
       "    }\n",
       "</style>\n",
       "<table border=\"1\" class=\"dataframe\">\n",
       "  <thead>\n",
       "    <tr style=\"text-align: right;\">\n",
       "      <th></th>\n",
       "      <th>City Name</th>\n",
       "      <th>Longtitude</th>\n",
       "      <th>Latitude</th>\n",
       "      <th>Temperature (f)</th>\n",
       "      <th>Humidity</th>\n",
       "      <th>Cloudiness</th>\n",
       "      <th>Wind Speed (mph)</th>\n",
       "    </tr>\n",
       "  </thead>\n",
       "  <tbody>\n",
       "    <tr>\n",
       "      <th>1</th>\n",
       "      <td>Cabedelo</td>\n",
       "      <td>-34.83</td>\n",
       "      <td>-6.98</td>\n",
       "      <td>86.00</td>\n",
       "      <td>55</td>\n",
       "      <td>40</td>\n",
       "      <td>13.87</td>\n",
       "    </tr>\n",
       "    <tr>\n",
       "      <th>3</th>\n",
       "      <td>Avarua</td>\n",
       "      <td>-159.78</td>\n",
       "      <td>-21.21</td>\n",
       "      <td>73.40</td>\n",
       "      <td>94</td>\n",
       "      <td>5</td>\n",
       "      <td>4.70</td>\n",
       "    </tr>\n",
       "    <tr>\n",
       "      <th>4</th>\n",
       "      <td>Punta Arenas</td>\n",
       "      <td>-70.92</td>\n",
       "      <td>-53.15</td>\n",
       "      <td>46.40</td>\n",
       "      <td>52</td>\n",
       "      <td>20</td>\n",
       "      <td>38.03</td>\n",
       "    </tr>\n",
       "    <tr>\n",
       "      <th>5</th>\n",
       "      <td>Cobija</td>\n",
       "      <td>-68.77</td>\n",
       "      <td>-11.03</td>\n",
       "      <td>96.94</td>\n",
       "      <td>35</td>\n",
       "      <td>16</td>\n",
       "      <td>4.56</td>\n",
       "    </tr>\n",
       "    <tr>\n",
       "      <th>6</th>\n",
       "      <td>Rikitea</td>\n",
       "      <td>-134.97</td>\n",
       "      <td>-23.12</td>\n",
       "      <td>73.83</td>\n",
       "      <td>79</td>\n",
       "      <td>0</td>\n",
       "      <td>14.88</td>\n",
       "    </tr>\n",
       "    <tr>\n",
       "      <th>12</th>\n",
       "      <td>Coyhaique</td>\n",
       "      <td>-72.07</td>\n",
       "      <td>-45.58</td>\n",
       "      <td>50.00</td>\n",
       "      <td>69</td>\n",
       "      <td>75</td>\n",
       "      <td>5.82</td>\n",
       "    </tr>\n",
       "    <tr>\n",
       "      <th>13</th>\n",
       "      <td>Cape Town</td>\n",
       "      <td>18.42</td>\n",
       "      <td>-33.93</td>\n",
       "      <td>62.01</td>\n",
       "      <td>55</td>\n",
       "      <td>20</td>\n",
       "      <td>8.05</td>\n",
       "    </tr>\n",
       "    <tr>\n",
       "      <th>15</th>\n",
       "      <td>Mataura</td>\n",
       "      <td>168.86</td>\n",
       "      <td>-46.19</td>\n",
       "      <td>48.00</td>\n",
       "      <td>70</td>\n",
       "      <td>70</td>\n",
       "      <td>15.99</td>\n",
       "    </tr>\n",
       "    <tr>\n",
       "      <th>19</th>\n",
       "      <td>Morón</td>\n",
       "      <td>-58.62</td>\n",
       "      <td>-34.65</td>\n",
       "      <td>78.80</td>\n",
       "      <td>69</td>\n",
       "      <td>75</td>\n",
       "      <td>8.05</td>\n",
       "    </tr>\n",
       "    <tr>\n",
       "      <th>24</th>\n",
       "      <td>Lebu</td>\n",
       "      <td>-73.65</td>\n",
       "      <td>-37.62</td>\n",
       "      <td>56.32</td>\n",
       "      <td>58</td>\n",
       "      <td>2</td>\n",
       "      <td>11.59</td>\n",
       "    </tr>\n",
       "    <tr>\n",
       "      <th>25</th>\n",
       "      <td>Ushuaia</td>\n",
       "      <td>-68.30</td>\n",
       "      <td>-54.80</td>\n",
       "      <td>39.20</td>\n",
       "      <td>86</td>\n",
       "      <td>75</td>\n",
       "      <td>34.45</td>\n",
       "    </tr>\n",
       "    <tr>\n",
       "      <th>27</th>\n",
       "      <td>Saldanha</td>\n",
       "      <td>17.94</td>\n",
       "      <td>-33.01</td>\n",
       "      <td>60.80</td>\n",
       "      <td>59</td>\n",
       "      <td>97</td>\n",
       "      <td>5.82</td>\n",
       "    </tr>\n",
       "    <tr>\n",
       "      <th>28</th>\n",
       "      <td>Cururupu</td>\n",
       "      <td>-44.87</td>\n",
       "      <td>-1.83</td>\n",
       "      <td>88.81</td>\n",
       "      <td>52</td>\n",
       "      <td>79</td>\n",
       "      <td>8.84</td>\n",
       "    </tr>\n",
       "    <tr>\n",
       "      <th>30</th>\n",
       "      <td>Vaini</td>\n",
       "      <td>-175.20</td>\n",
       "      <td>-21.20</td>\n",
       "      <td>68.00</td>\n",
       "      <td>88</td>\n",
       "      <td>20</td>\n",
       "      <td>10.29</td>\n",
       "    </tr>\n",
       "    <tr>\n",
       "      <th>32</th>\n",
       "      <td>Lüderitz</td>\n",
       "      <td>15.16</td>\n",
       "      <td>-26.65</td>\n",
       "      <td>62.28</td>\n",
       "      <td>65</td>\n",
       "      <td>0</td>\n",
       "      <td>25.30</td>\n",
       "    </tr>\n",
       "    <tr>\n",
       "      <th>36</th>\n",
       "      <td>Bluff</td>\n",
       "      <td>168.33</td>\n",
       "      <td>-46.60</td>\n",
       "      <td>48.00</td>\n",
       "      <td>70</td>\n",
       "      <td>75</td>\n",
       "      <td>15.99</td>\n",
       "    </tr>\n",
       "    <tr>\n",
       "      <th>38</th>\n",
       "      <td>Jardim</td>\n",
       "      <td>-56.14</td>\n",
       "      <td>-21.48</td>\n",
       "      <td>94.95</td>\n",
       "      <td>39</td>\n",
       "      <td>0</td>\n",
       "      <td>4.09</td>\n",
       "    </tr>\n",
       "    <tr>\n",
       "      <th>39</th>\n",
       "      <td>Kruisfontein</td>\n",
       "      <td>24.73</td>\n",
       "      <td>-34.00</td>\n",
       "      <td>62.01</td>\n",
       "      <td>82</td>\n",
       "      <td>69</td>\n",
       "      <td>4.00</td>\n",
       "    </tr>\n",
       "    <tr>\n",
       "      <th>40</th>\n",
       "      <td>Conceição da Barra</td>\n",
       "      <td>-39.73</td>\n",
       "      <td>-18.59</td>\n",
       "      <td>79.56</td>\n",
       "      <td>59</td>\n",
       "      <td>100</td>\n",
       "      <td>8.23</td>\n",
       "    </tr>\n",
       "    <tr>\n",
       "      <th>41</th>\n",
       "      <td>Bambous Virieux</td>\n",
       "      <td>57.76</td>\n",
       "      <td>-20.34</td>\n",
       "      <td>75.20</td>\n",
       "      <td>69</td>\n",
       "      <td>40</td>\n",
       "      <td>11.41</td>\n",
       "    </tr>\n",
       "    <tr>\n",
       "      <th>42</th>\n",
       "      <td>Christchurch</td>\n",
       "      <td>172.63</td>\n",
       "      <td>-43.53</td>\n",
       "      <td>48.99</td>\n",
       "      <td>100</td>\n",
       "      <td>40</td>\n",
       "      <td>1.12</td>\n",
       "    </tr>\n",
       "    <tr>\n",
       "      <th>48</th>\n",
       "      <td>Port Elizabeth</td>\n",
       "      <td>25.57</td>\n",
       "      <td>-33.92</td>\n",
       "      <td>62.60</td>\n",
       "      <td>88</td>\n",
       "      <td>20</td>\n",
       "      <td>9.17</td>\n",
       "    </tr>\n",
       "    <tr>\n",
       "      <th>49</th>\n",
       "      <td>Busselton</td>\n",
       "      <td>115.33</td>\n",
       "      <td>-33.65</td>\n",
       "      <td>57.00</td>\n",
       "      <td>68</td>\n",
       "      <td>3</td>\n",
       "      <td>9.73</td>\n",
       "    </tr>\n",
       "    <tr>\n",
       "      <th>50</th>\n",
       "      <td>Faanui</td>\n",
       "      <td>-151.75</td>\n",
       "      <td>-16.48</td>\n",
       "      <td>80.06</td>\n",
       "      <td>79</td>\n",
       "      <td>8</td>\n",
       "      <td>15.52</td>\n",
       "    </tr>\n",
       "    <tr>\n",
       "      <th>53</th>\n",
       "      <td>Prabumulih</td>\n",
       "      <td>104.25</td>\n",
       "      <td>-3.45</td>\n",
       "      <td>74.91</td>\n",
       "      <td>97</td>\n",
       "      <td>80</td>\n",
       "      <td>2.53</td>\n",
       "    </tr>\n",
       "    <tr>\n",
       "      <th>54</th>\n",
       "      <td>East London</td>\n",
       "      <td>27.91</td>\n",
       "      <td>-33.02</td>\n",
       "      <td>66.20</td>\n",
       "      <td>82</td>\n",
       "      <td>50</td>\n",
       "      <td>11.41</td>\n",
       "    </tr>\n",
       "    <tr>\n",
       "      <th>58</th>\n",
       "      <td>Comodoro Rivadavia</td>\n",
       "      <td>-67.50</td>\n",
       "      <td>-45.87</td>\n",
       "      <td>57.20</td>\n",
       "      <td>24</td>\n",
       "      <td>75</td>\n",
       "      <td>25.28</td>\n",
       "    </tr>\n",
       "    <tr>\n",
       "      <th>59</th>\n",
       "      <td>Hermanus</td>\n",
       "      <td>19.23</td>\n",
       "      <td>-34.42</td>\n",
       "      <td>59.00</td>\n",
       "      <td>75</td>\n",
       "      <td>76</td>\n",
       "      <td>1.99</td>\n",
       "    </tr>\n",
       "    <tr>\n",
       "      <th>60</th>\n",
       "      <td>Chui</td>\n",
       "      <td>-53.46</td>\n",
       "      <td>-33.70</td>\n",
       "      <td>81.03</td>\n",
       "      <td>54</td>\n",
       "      <td>87</td>\n",
       "      <td>6.58</td>\n",
       "    </tr>\n",
       "    <tr>\n",
       "      <th>61</th>\n",
       "      <td>Port Alfred</td>\n",
       "      <td>26.89</td>\n",
       "      <td>-33.59</td>\n",
       "      <td>66.02</td>\n",
       "      <td>87</td>\n",
       "      <td>71</td>\n",
       "      <td>10.20</td>\n",
       "    </tr>\n",
       "    <tr>\n",
       "      <th>63</th>\n",
       "      <td>Saint-Philippe</td>\n",
       "      <td>55.77</td>\n",
       "      <td>-21.36</td>\n",
       "      <td>73.40</td>\n",
       "      <td>69</td>\n",
       "      <td>32</td>\n",
       "      <td>9.17</td>\n",
       "    </tr>\n",
       "    <tr>\n",
       "      <th>65</th>\n",
       "      <td>New Norfolk</td>\n",
       "      <td>147.06</td>\n",
       "      <td>-42.78</td>\n",
       "      <td>41.00</td>\n",
       "      <td>82</td>\n",
       "      <td>44</td>\n",
       "      <td>2.44</td>\n",
       "    </tr>\n",
       "  </tbody>\n",
       "</table>\n",
       "</div>"
      ],
      "text/plain": [
       "             City Name  Longtitude  Latitude  Temperature (f)  Humidity  \\\n",
       "1             Cabedelo      -34.83     -6.98            86.00        55   \n",
       "3               Avarua     -159.78    -21.21            73.40        94   \n",
       "4         Punta Arenas      -70.92    -53.15            46.40        52   \n",
       "5               Cobija      -68.77    -11.03            96.94        35   \n",
       "6              Rikitea     -134.97    -23.12            73.83        79   \n",
       "12           Coyhaique      -72.07    -45.58            50.00        69   \n",
       "13           Cape Town       18.42    -33.93            62.01        55   \n",
       "15             Mataura      168.86    -46.19            48.00        70   \n",
       "19               Morón      -58.62    -34.65            78.80        69   \n",
       "24                Lebu      -73.65    -37.62            56.32        58   \n",
       "25             Ushuaia      -68.30    -54.80            39.20        86   \n",
       "27            Saldanha       17.94    -33.01            60.80        59   \n",
       "28            Cururupu      -44.87     -1.83            88.81        52   \n",
       "30               Vaini     -175.20    -21.20            68.00        88   \n",
       "32            Lüderitz       15.16    -26.65            62.28        65   \n",
       "36               Bluff      168.33    -46.60            48.00        70   \n",
       "38              Jardim      -56.14    -21.48            94.95        39   \n",
       "39        Kruisfontein       24.73    -34.00            62.01        82   \n",
       "40  Conceição da Barra      -39.73    -18.59            79.56        59   \n",
       "41     Bambous Virieux       57.76    -20.34            75.20        69   \n",
       "42        Christchurch      172.63    -43.53            48.99       100   \n",
       "48      Port Elizabeth       25.57    -33.92            62.60        88   \n",
       "49           Busselton      115.33    -33.65            57.00        68   \n",
       "50              Faanui     -151.75    -16.48            80.06        79   \n",
       "53          Prabumulih      104.25     -3.45            74.91        97   \n",
       "54         East London       27.91    -33.02            66.20        82   \n",
       "58  Comodoro Rivadavia      -67.50    -45.87            57.20        24   \n",
       "59            Hermanus       19.23    -34.42            59.00        75   \n",
       "60                Chui      -53.46    -33.70            81.03        54   \n",
       "61         Port Alfred       26.89    -33.59            66.02        87   \n",
       "63      Saint-Philippe       55.77    -21.36            73.40        69   \n",
       "65         New Norfolk      147.06    -42.78            41.00        82   \n",
       "\n",
       "    Cloudiness  Wind Speed (mph)  \n",
       "1           40             13.87  \n",
       "3            5              4.70  \n",
       "4           20             38.03  \n",
       "5           16              4.56  \n",
       "6            0             14.88  \n",
       "12          75              5.82  \n",
       "13          20              8.05  \n",
       "15          70             15.99  \n",
       "19          75              8.05  \n",
       "24           2             11.59  \n",
       "25          75             34.45  \n",
       "27          97              5.82  \n",
       "28          79              8.84  \n",
       "30          20             10.29  \n",
       "32           0             25.30  \n",
       "36          75             15.99  \n",
       "38           0              4.09  \n",
       "39          69              4.00  \n",
       "40         100              8.23  \n",
       "41          40             11.41  \n",
       "42          40              1.12  \n",
       "48          20              9.17  \n",
       "49           3              9.73  \n",
       "50           8             15.52  \n",
       "53          80              2.53  \n",
       "54          50             11.41  \n",
       "58          75             25.28  \n",
       "59          76              1.99  \n",
       "60          87              6.58  \n",
       "61          71             10.20  \n",
       "63          32              9.17  \n",
       "65          44              2.44  "
      ]
     },
     "execution_count": 20,
     "metadata": {},
     "output_type": "execute_result"
    }
   ],
   "source": [
    "#Create Southern Hemisphere Dataframe\n",
    "Southern_df = data_df[data_df['Latitude'] < 0]\n",
    "Southern_df"
   ]
  },
  {
   "cell_type": "markdown",
   "metadata": {},
   "source": [
    "## Plotting the Data\n",
    "* Use proper labeling of the plots using plot titles (including date of analysis) and axes labels.\n",
    "* Save the plotted figures as .pngs."
   ]
  },
  {
   "cell_type": "markdown",
   "metadata": {},
   "source": [
    "## Latitude vs. Temperature Plot"
   ]
  },
  {
   "cell_type": "code",
   "execution_count": 24,
   "metadata": {
    "scrolled": true
   },
   "outputs": [
    {
     "data": {
      "image/png": "[encoded data removed]",
      "text/plain": [
       "<Figure size 432x288 with 1 Axes>"
      ]
     },
     "metadata": {
      "needs_background": "light"
     },
     "output_type": "display_data"
    }
   ],
   "source": [
    "#Overall Latitude vs Temperature\n",
    "Lattemp = data_df['Latitude']\n",
    "Templat = data_df['Temperature (f)']\n",
    "plt.scatter(Lattemp, Templat)\n",
    "plt.xlabel('Latitude')\n",
    "plt.ylabel('Temperature (f)')\n",
    "plt.title('Latitude vs. Temperature (f)')\n",
    "plt.grid(True)\n",
    "# Save the figure.\n",
    "plt.savefig('Images/Temp_vs_Lat.png')"
   ]
  },
  {
   "cell_type": "markdown",
   "metadata": {},
   "source": [
    "## Latitude vs. Humidity Plot"
   ]
  },
  {
   "cell_type": "code",
   "execution_count": 25,
   "metadata": {},
   "outputs": [
    {
     "data": {
      "image/png": "[encoded data removed]",
      "text/plain": [
       "<Figure size 432x288 with 1 Axes>"
      ]
     },
     "metadata": {
      "needs_background": "light"
     },
     "output_type": "display_data"
    }
   ],
   "source": [
    "#Overall Latitude vs Humidity\n",
    "Lathum = data_df['Latitude']\n",
    "Humlat = data_df['Humidity']\n",
    "plt.scatter(Lathum, Humlat)\n",
    "plt.xlabel('Latitude')\n",
    "plt.ylabel('Humidity')\n",
    "plt.title('Latitude vs. Humidity')\n",
    "# Save the figure.\n",
    "plt.savefig('Images/Humidity_vs_Lat.png')"
   ]
  },
  {
   "cell_type": "markdown",
   "metadata": {},
   "source": [
    "## Latitude vs. Cloudiness Plot"
   ]
  },
  {
   "cell_type": "code",
   "execution_count": 26,
   "metadata": {},
   "outputs": [
    {
     "data": {
      "image/png": "[encoded data removed]",
      "text/plain": [
       "<Figure size 432x288 with 1 Axes>"
      ]
     },
     "metadata": {
      "needs_background": "light"
     },
     "output_type": "display_data"
    }
   ],
   "source": [
    "#Overall Latitude vs Cloudiness\n",
    "Latcloud = data_df['Latitude']\n",
    "Cloudlat = data_df['Cloudiness']\n",
    "plt.scatter(Latcloud, Cloudlat)\n",
    "plt.xlabel('Latitude')\n",
    "plt.ylabel('Cloudiness')\n",
    "plt.title('Latitude vs. Cloudiness')\n",
    "# Save the figure.\n",
    "plt.savefig('Images/Cloudiness_vs_Lat.png')"
   ]
  },
  {
   "cell_type": "markdown",
   "metadata": {},
   "source": [
    "## Latitude vs. Wind Speed Plot"
   ]
  },
  {
   "cell_type": "code",
   "execution_count": 27,
   "metadata": {},
   "outputs": [
    {
     "data": {
      "image/png": "[encoded data removed]",
      "text/plain": [
       "<Figure size 432x288 with 1 Axes>"
      ]
     },
     "metadata": {
      "needs_background": "light"
     },
     "output_type": "display_data"
    }
   ],
   "source": [
    "#Overall Latitude vs Wind Speed\n",
    "Latwind = data_df['Latitude']\n",
    "Windlat = data_df['Wind Speed (mph)']\n",
    "plt.scatter(Latwind, Windlat)\n",
    "plt.xlabel('Latitude')\n",
    "plt.ylabel('Wind Speed (mph)')\n",
    "plt.title('Latitude vs. Wind Speed (mph)')\n",
    "# Save the figure.\n",
    "plt.savefig('Images/Windspeed_vs_Lat.png')"
   ]
  },
  {
   "cell_type": "markdown",
   "metadata": {},
   "source": [
    "## Linear Regression"
   ]
  },
  {
   "cell_type": "code",
   "execution_count": null,
   "metadata": {},
   "outputs": [],
   "source": []
  },
  {
   "cell_type": "markdown",
   "metadata": {},
   "source": [
    "####  Northern Hemisphere - Max Temp vs. Latitude Linear Regression"
   ]
  },
  {
   "cell_type": "code",
   "execution_count": null,
   "metadata": {},
   "outputs": [],
   "source": []
  },
  {
   "cell_type": "markdown",
   "metadata": {},
   "source": [
    "####  Southern Hemisphere - Max Temp vs. Latitude Linear Regression"
   ]
  },
  {
   "cell_type": "code",
   "execution_count": null,
   "metadata": {},
   "outputs": [],
   "source": []
  },
  {
   "cell_type": "markdown",
   "metadata": {},
   "source": [
    "####  Northern Hemisphere - Humidity (%) vs. Latitude Linear Regression"
   ]
  },
  {
   "cell_type": "code",
   "execution_count": null,
   "metadata": {},
   "outputs": [],
   "source": []
  },
  {
   "cell_type": "markdown",
   "metadata": {},
   "source": [
    "####  Southern Hemisphere - Humidity (%) vs. Latitude Linear Regression"
   ]
  },
  {
   "cell_type": "code",
   "execution_count": null,
   "metadata": {},
   "outputs": [],
   "source": []
  },
  {
   "cell_type": "markdown",
   "metadata": {},
   "source": [
    "####  Northern Hemisphere - Cloudiness (%) vs. Latitude Linear Regression"
   ]
  },
  {
   "cell_type": "code",
   "execution_count": null,
   "metadata": {},
   "outputs": [],
   "source": []
  },
  {
   "cell_type": "markdown",
   "metadata": {},
   "source": [
    "####  Southern Hemisphere - Cloudiness (%) vs. Latitude Linear Regression"
   ]
  },
  {
   "cell_type": "code",
   "execution_count": null,
   "metadata": {},
   "outputs": [],
   "source": []
  },
  {
   "cell_type": "markdown",
   "metadata": {},
   "source": [
    "####  Northern Hemisphere - Wind Speed (mph) vs. Latitude Linear Regression"
   ]
  },
  {
   "cell_type": "code",
   "execution_count": null,
   "metadata": {},
   "outputs": [],
   "source": []
  },
  {
   "cell_type": "markdown",
   "metadata": {},
   "source": [
    "####  Southern Hemisphere - Wind Speed (mph) vs. Latitude Linear Regression"
   ]
  },
  {
   "cell_type": "code",
   "execution_count": null,
   "metadata": {},
   "outputs": [],
   "source": []
  },
  {
   "cell_type": "code",
   "execution_count": null,
   "metadata": {},
   "outputs": [],
   "source": []
  }
 ],
 "metadata": {
  "anaconda-cloud": {},
  "kernel_info": {
   "name": "python3"
  },
  "kernelspec": {
   "display_name": "Python [conda env:PythonData]",
   "language": "python",
   "name": "conda-env-PythonData-py"
  },
  "language_info": {
   "codemirror_mode": {
    "name": "ipython",
    "version": 3
   },
   "file_extension": ".py",
   "mimetype": "text/x-python",
   "name": "python",
   "nbconvert_exporter": "python",
   "pygments_lexer": "ipython3",
   "version": "3.6.10"
  },
  "latex_envs": {
   "LaTeX_envs_menu_present": true,
   "autoclose": false,
   "autocomplete": true,
   "bibliofile": "biblio.bib",
   "cite_by": "apalike",
   "current_citInitial": 1,
   "eqLabelWithNumbers": true,
   "eqNumInitial": 1,
   "hotkeys": {
    "equation": "Ctrl-E",
    "itemize": "Ctrl-I"
   },
   "labels_anchors": false,
   "latex_user_defs": false,
   "report_style_numbering": false,
   "user_envs_cfg": false
  },
  "nteract": {
   "version": "0.12.3"
  }
 },
 "nbformat": 4,
 "nbformat_minor": 2
}
